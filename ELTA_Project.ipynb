{
  "nbformat": 4,
  "nbformat_minor": 0,
  "metadata": {
    "accelerator": "GPU",
    "anaconda-cloud": {},
    "colab": {
      "name": "ELTA_Project.ipynb",
      "provenance": [],
      "collapsed_sections": [
        "OO33osd0CUQY",
        "0YYlLHBTCUQf",
        "F7gd7sfrCUQk",
        "NApc4X8iCUQt",
        "OnytNcQACUQ7",
        "hTFd6CR1CUQ7",
        "fgzuWdGDCURC",
        "edYRLI3LCURH"
      ],
      "machine_shape": "hm"
    },
    "kernelspec": {
      "display_name": "Python 3",
      "language": "python",
      "name": "python3"
    },
    "language_info": {
      "codemirror_mode": {
        "name": "ipython",
        "version": 3
      },
      "file_extension": ".py",
      "mimetype": "text/x-python",
      "name": "python",
      "nbconvert_exporter": "python",
      "pygments_lexer": "ipython3",
      "version": "3.7.3"
    },
    "widgets": {
      "application/vnd.jupyter.widget-state+json": {
        "a1542001e9d14266b392cfc62df13f66": {
          "model_module": "@jupyter-widgets/controls",
          "model_name": "HBoxModel",
          "state": {
            "_dom_classes": [],
            "_model_module": "@jupyter-widgets/controls",
            "_model_module_version": "1.5.0",
            "_model_name": "HBoxModel",
            "_view_count": null,
            "_view_module": "@jupyter-widgets/controls",
            "_view_module_version": "1.5.0",
            "_view_name": "HBoxView",
            "box_style": "",
            "children": [
              "IPY_MODEL_4e250a36bc0b48189c4565766f213379",
              "IPY_MODEL_0a2b60a1de494966b4705d093dd1eef9"
            ],
            "layout": "IPY_MODEL_f9a682d42b5749099ffd8056d35d37e2"
          }
        },
        "f9a682d42b5749099ffd8056d35d37e2": {
          "model_module": "@jupyter-widgets/base",
          "model_name": "LayoutModel",
          "state": {
            "_model_module": "@jupyter-widgets/base",
            "_model_module_version": "1.2.0",
            "_model_name": "LayoutModel",
            "_view_count": null,
            "_view_module": "@jupyter-widgets/base",
            "_view_module_version": "1.2.0",
            "_view_name": "LayoutView",
            "align_content": null,
            "align_items": null,
            "align_self": null,
            "border": null,
            "bottom": null,
            "display": null,
            "flex": null,
            "flex_flow": null,
            "grid_area": null,
            "grid_auto_columns": null,
            "grid_auto_flow": null,
            "grid_auto_rows": null,
            "grid_column": null,
            "grid_gap": null,
            "grid_row": null,
            "grid_template_areas": null,
            "grid_template_columns": null,
            "grid_template_rows": null,
            "height": null,
            "justify_content": null,
            "justify_items": null,
            "left": null,
            "margin": null,
            "max_height": null,
            "max_width": null,
            "min_height": null,
            "min_width": null,
            "object_fit": null,
            "object_position": null,
            "order": null,
            "overflow": null,
            "overflow_x": null,
            "overflow_y": null,
            "padding": null,
            "right": null,
            "top": null,
            "visibility": null,
            "width": null
          }
        },
        "4e250a36bc0b48189c4565766f213379": {
          "model_module": "@jupyter-widgets/controls",
          "model_name": "IntProgressModel",
          "state": {
            "_dom_classes": [],
            "_model_module": "@jupyter-widgets/controls",
            "_model_module_version": "1.5.0",
            "_model_name": "IntProgressModel",
            "_view_count": null,
            "_view_module": "@jupyter-widgets/controls",
            "_view_module_version": "1.5.0",
            "_view_name": "ProgressView",
            "bar_style": "danger",
            "description": "100%",
            "description_tooltip": null,
            "layout": "IPY_MODEL_39cd2fae823f4bc9940e0c3af027da5a",
            "max": 20000,
            "min": 0,
            "orientation": "horizontal",
            "style": "IPY_MODEL_a329db6c1e6841528082c3cccc8fb618",
            "value": 20000
          }
        },
        "0a2b60a1de494966b4705d093dd1eef9": {
          "model_module": "@jupyter-widgets/controls",
          "model_name": "HTMLModel",
          "state": {
            "_dom_classes": [],
            "_model_module": "@jupyter-widgets/controls",
            "_model_module_version": "1.5.0",
            "_model_name": "HTMLModel",
            "_view_count": null,
            "_view_module": "@jupyter-widgets/controls",
            "_view_module_version": "1.5.0",
            "_view_name": "HTMLView",
            "description": "",
            "description_tooltip": null,
            "layout": "IPY_MODEL_3185002b22524a71941e1213b6e98624",
            "placeholder": "​",
            "style": "IPY_MODEL_4aaaa86d992948aca99176ddb2815313",
            "value": " 20000/20000 [06:40&lt;00:00, 54.70it/s]"
          }
        },
        "a329db6c1e6841528082c3cccc8fb618": {
          "model_module": "@jupyter-widgets/controls",
          "model_name": "ProgressStyleModel",
          "state": {
            "_model_module": "@jupyter-widgets/controls",
            "_model_module_version": "1.5.0",
            "_model_name": "ProgressStyleModel",
            "_view_count": null,
            "_view_module": "@jupyter-widgets/base",
            "_view_module_version": "1.2.0",
            "_view_name": "StyleView",
            "bar_color": null,
            "description_width": "initial"
          }
        },
        "39cd2fae823f4bc9940e0c3af027da5a": {
          "model_module": "@jupyter-widgets/base",
          "model_name": "LayoutModel",
          "state": {
            "_model_module": "@jupyter-widgets/base",
            "_model_module_version": "1.2.0",
            "_model_name": "LayoutModel",
            "_view_count": null,
            "_view_module": "@jupyter-widgets/base",
            "_view_module_version": "1.2.0",
            "_view_name": "LayoutView",
            "align_content": null,
            "align_items": null,
            "align_self": null,
            "border": null,
            "bottom": null,
            "display": null,
            "flex": null,
            "flex_flow": null,
            "grid_area": null,
            "grid_auto_columns": null,
            "grid_auto_flow": null,
            "grid_auto_rows": null,
            "grid_column": null,
            "grid_gap": null,
            "grid_row": null,
            "grid_template_areas": null,
            "grid_template_columns": null,
            "grid_template_rows": null,
            "height": null,
            "justify_content": null,
            "justify_items": null,
            "left": null,
            "margin": null,
            "max_height": null,
            "max_width": null,
            "min_height": null,
            "min_width": null,
            "object_fit": null,
            "object_position": null,
            "order": null,
            "overflow": null,
            "overflow_x": null,
            "overflow_y": null,
            "padding": null,
            "right": null,
            "top": null,
            "visibility": null,
            "width": null
          }
        },
        "4aaaa86d992948aca99176ddb2815313": {
          "model_module": "@jupyter-widgets/controls",
          "model_name": "DescriptionStyleModel",
          "state": {
            "_model_module": "@jupyter-widgets/controls",
            "_model_module_version": "1.5.0",
            "_model_name": "DescriptionStyleModel",
            "_view_count": null,
            "_view_module": "@jupyter-widgets/base",
            "_view_module_version": "1.2.0",
            "_view_name": "StyleView",
            "description_width": ""
          }
        },
        "3185002b22524a71941e1213b6e98624": {
          "model_module": "@jupyter-widgets/base",
          "model_name": "LayoutModel",
          "state": {
            "_model_module": "@jupyter-widgets/base",
            "_model_module_version": "1.2.0",
            "_model_name": "LayoutModel",
            "_view_count": null,
            "_view_module": "@jupyter-widgets/base",
            "_view_module_version": "1.2.0",
            "_view_name": "LayoutView",
            "align_content": null,
            "align_items": null,
            "align_self": null,
            "border": null,
            "bottom": null,
            "display": null,
            "flex": null,
            "flex_flow": null,
            "grid_area": null,
            "grid_auto_columns": null,
            "grid_auto_flow": null,
            "grid_auto_rows": null,
            "grid_column": null,
            "grid_gap": null,
            "grid_row": null,
            "grid_template_areas": null,
            "grid_template_columns": null,
            "grid_template_rows": null,
            "height": null,
            "justify_content": null,
            "justify_items": null,
            "left": null,
            "margin": null,
            "max_height": null,
            "max_width": null,
            "min_height": null,
            "min_width": null,
            "object_fit": null,
            "object_position": null,
            "order": null,
            "overflow": null,
            "overflow_x": null,
            "overflow_y": null,
            "padding": null,
            "right": null,
            "top": null,
            "visibility": null,
            "width": null
          }
        }
      }
    }
  },
  "cells": [
    {
      "cell_type": "markdown",
      "metadata": {
        "colab_type": "text",
        "id": "8hditnvFCUPp"
      },
      "source": [
        "# Ensemble learning"
      ]
    },
    {
      "cell_type": "code",
      "metadata": {
        "colab_type": "code",
        "id": "Pee1wbDOGXFP",
        "outputId": "1e7f365a-fe54-49ef-afe6-559b0daa7632",
        "colab": {
          "base_uri": "https://localhost:8080/",
          "height": 199
        }
      },
      "source": [
        "!pip install --upgrade scikit-learn\n",
        "!pip install --upgrade sklearn\n",
        "!pip install --upgrade scipy\n",
        "!pip install lightgbm\n",
        "!pip install xgboost\n",
        "!pip install unidecode\n",
        "!pip install spacy"
      ],
      "execution_count": 0,
      "outputs": [
        {
          "output_type": "stream",
          "text": [
            "Requirement already up-to-date: scikit-learn in c:\\programdata\\anaconda3\\lib\\site-packages (0.22.2.post1)\n",
            "Requirement already satisfied, skipping upgrade: joblib>=0.11 in c:\\programdata\\anaconda3\\lib\\site-packages (from scikit-learn) (0.14.1)\n",
            "Requirement already satisfied, skipping upgrade: numpy>=1.11.0 in c:\\programdata\\anaconda3\\lib\\site-packages (from scikit-learn) (1.18.1)\n",
            "Requirement already satisfied, skipping upgrade: scipy>=0.17.0 in c:\\programdata\\anaconda3\\lib\\site-packages (from scikit-learn) (1.4.1)\n",
            "Requirement already up-to-date: sklearn in c:\\programdata\\anaconda3\\lib\\site-packages (0.0)\n",
            "Requirement already satisfied, skipping upgrade: scikit-learn in c:\\programdata\\anaconda3\\lib\\site-packages (from sklearn) (0.22.2.post1)\n",
            "Requirement already satisfied, skipping upgrade: scipy>=0.17.0 in c:\\programdata\\anaconda3\\lib\\site-packages (from scikit-learn->sklearn) (1.4.1)\n",
            "Requirement already satisfied, skipping upgrade: numpy>=1.11.0 in c:\\programdata\\anaconda3\\lib\\site-packages (from scikit-learn->sklearn) (1.18.1)\n",
            "Requirement already satisfied, skipping upgrade: joblib>=0.11 in c:\\programdata\\anaconda3\\lib\\site-packages (from scikit-learn->sklearn) (0.14.1)\n",
            "Requirement already up-to-date: scipy in c:\\programdata\\anaconda3\\lib\\site-packages (1.4.1)\n",
            "Requirement already satisfied, skipping upgrade: numpy>=1.13.3 in c:\\programdata\\anaconda3\\lib\\site-packages (from scipy) (1.18.1)\n",
            "Requirement already satisfied: lightgbm in c:\\programdata\\anaconda3\\lib\\site-packages (2.3.1)\n",
            "Requirement already satisfied: scikit-learn in c:\\programdata\\anaconda3\\lib\\site-packages (from lightgbm) (0.22.2.post1)\n",
            "Requirement already satisfied: scipy in c:\\programdata\\anaconda3\\lib\\site-packages (from lightgbm) (1.4.1)\n",
            "Requirement already satisfied: numpy in c:\\programdata\\anaconda3\\lib\\site-packages (from lightgbm) (1.18.1)\n",
            "Requirement already satisfied: joblib>=0.11 in c:\\programdata\\anaconda3\\lib\\site-packages (from scikit-learn->lightgbm) (0.14.1)\n",
            "Requirement already satisfied: xgboost in c:\\programdata\\anaconda3\\lib\\site-packages (0.90)\n",
            "Requirement already satisfied: numpy in c:\\programdata\\anaconda3\\lib\\site-packages (from xgboost) (1.18.1)\n",
            "Requirement already satisfied: scipy in c:\\programdata\\anaconda3\\lib\\site-packages (from xgboost) (1.4.1)\n",
            "Requirement already satisfied: unidecode in c:\\programdata\\anaconda3\\lib\\site-packages (1.1.1)\n",
            "Requirement already satisfied: spacy in c:\\programdata\\anaconda3\\lib\\site-packages (2.2.3)\n",
            "Requirement already satisfied: wasabi<1.1.0,>=0.4.0 in c:\\programdata\\anaconda3\\lib\\site-packages (from spacy) (0.6.0)\n",
            "Requirement already satisfied: preshed<3.1.0,>=3.0.2 in c:\\programdata\\anaconda3\\lib\\site-packages (from spacy) (3.0.2)\n",
            "Requirement already satisfied: numpy>=1.15.0 in c:\\programdata\\anaconda3\\lib\\site-packages (from spacy) (1.18.1)\n",
            "Requirement already satisfied: cymem<2.1.0,>=2.0.2 in c:\\programdata\\anaconda3\\lib\\site-packages (from spacy) (2.0.3)\n",
            "Requirement already satisfied: srsly<1.1.0,>=0.1.0 in c:\\programdata\\anaconda3\\lib\\site-packages (from spacy) (1.0.1)\n",
            "Requirement already satisfied: setuptools in c:\\programdata\\anaconda3\\lib\\site-packages (from spacy) (45.1.0)\n",
            "Requirement already satisfied: thinc<7.4.0,>=7.3.0 in c:\\programdata\\anaconda3\\lib\\site-packages (from spacy) (7.3.1)\n",
            "Requirement already satisfied: murmurhash<1.1.0,>=0.28.0 in c:\\programdata\\anaconda3\\lib\\site-packages (from spacy) (1.0.2)\n",
            "Requirement already satisfied: plac<1.2.0,>=0.9.6 in c:\\programdata\\anaconda3\\lib\\site-packages (from spacy) (1.1.3)\n",
            "Requirement already satisfied: catalogue<1.1.0,>=0.0.7 in c:\\programdata\\anaconda3\\lib\\site-packages (from spacy) (1.0.0)\n",
            "Requirement already satisfied: blis<0.5.0,>=0.4.0 in c:\\programdata\\anaconda3\\lib\\site-packages (from spacy) (0.4.1)\n",
            "Requirement already satisfied: requests<3.0.0,>=2.13.0 in c:\\programdata\\anaconda3\\lib\\site-packages (from spacy) (2.21.0)\n",
            "Requirement already satisfied: tqdm<5.0.0,>=4.10.0 in c:\\programdata\\anaconda3\\lib\\site-packages (from thinc<7.4.0,>=7.3.0->spacy) (4.31.1)\n",
            "Requirement already satisfied: importlib-metadata>=0.20; python_version < \"3.8\" in c:\\programdata\\anaconda3\\lib\\site-packages (from catalogue<1.1.0,>=0.0.7->spacy) (1.5.0)\n",
            "Requirement already satisfied: chardet<3.1.0,>=3.0.2 in c:\\programdata\\anaconda3\\lib\\site-packages (from requests<3.0.0,>=2.13.0->spacy) (3.0.4)\n",
            "Requirement already satisfied: certifi>=2017.4.17 in c:\\programdata\\anaconda3\\lib\\site-packages (from requests<3.0.0,>=2.13.0->spacy) (2019.11.28)\n",
            "Requirement already satisfied: urllib3<1.25,>=1.21.1 in c:\\programdata\\anaconda3\\lib\\site-packages (from requests<3.0.0,>=2.13.0->spacy) (1.24.1)\n",
            "Requirement already satisfied: idna<2.9,>=2.5 in c:\\programdata\\anaconda3\\lib\\site-packages (from requests<3.0.0,>=2.13.0->spacy) (2.8)\n",
            "Requirement already satisfied: zipp>=0.5 in c:\\programdata\\anaconda3\\lib\\site-packages (from importlib-metadata>=0.20; python_version < \"3.8\"->catalogue<1.1.0,>=0.0.7->spacy) (2.2.0)\n"
          ],
          "name": "stdout"
        }
      ]
    },
    {
      "cell_type": "code",
      "metadata": {
        "colab_type": "code",
        "id": "PRzB4h11CURN",
        "colab": {}
      },
      "source": [
        "import pandas as pd\n",
        "import numpy as np\n",
        "import scipy\n",
        "from PIL import Image\n",
        "import os, sys\n",
        "from glob import glob\n",
        "import gc\n",
        "import unidecode\n",
        "import zipfile\n",
        "import cv2\n",
        "from tqdm import tqdm_notebook,trange\n",
        "import lightgbm as lgb\n",
        "from sklearn.ensemble import RandomForestClassifier\n",
        "from sklearn.ensemble import BaggingClassifier\n",
        "from sklearn.ensemble import AdaBoostClassifier\n",
        "from sklearn.ensemble import ExtraTreesClassifier\n",
        "from sklearn.ensemble import GradientBoostingClassifier\n",
        "from sklearn.experimental import enable_hist_gradient_boosting\n",
        "from sklearn.ensemble import HistGradientBoostingClassifier\n",
        "from sklearn.ensemble import VotingClassifier\n",
        "from sklearn.ensemble import StackingClassifier\n",
        "from sklearn.linear_model import LogisticRegression\n",
        "from sklearn.linear_model import LogisticRegressionCV\n",
        "from sklearn.tree import DecisionTreeClassifier\n",
        "from sklearn.neighbors import KNeighborsClassifier\n",
        "from sklearn.naive_bayes import GaussianNB\n",
        "from sklearn.preprocessing import StandardScaler\n",
        "from sklearn.pipeline import make_pipeline\n",
        "from sklearn.svm import LinearSVC\n",
        "from sklearn.svm import SVC\n",
        "from sklearn.svm import NuSVC\n",
        "from sklearn.model_selection import cross_val_score\n",
        "from xgboost import XGBClassifier\n",
        "import lightgbm as lgb\n",
        "from sklearn.feature_extraction.text import TfidfVectorizer\n",
        "from sklearn.metrics import accuracy_score\n",
        "from sklearn.model_selection import train_test_split\n",
        "from sklearn.preprocessing import LabelEncoder\n",
        "from sklearn.metrics import f1_score\n",
        "import matplotlib.pyplot as plt\n",
        "import nltk\n",
        "nltk.download('stopwords')\n",
        "from nltk.corpus import stopwords\n",
        "from nltk.stem import SnowballStemmer\n",
        "import string\n",
        "import torchvision\n",
        "import torchvision.transforms as transforms\n",
        "import torch\n",
        "import torch.nn as nn\n",
        "import torch.nn.functional as F"
      ],
      "execution_count": 0,
      "outputs": []
    },
    {
      "cell_type": "code",
      "metadata": {
        "colab_type": "code",
        "id": "Yne__VsiQAjt",
        "colab": {}
      },
      "source": [
        "! python -m spacy download fr_core_news_sm\n",
        "! python -m spacy download en_core_web_sm\n",
        "! pip install catboost"
      ],
      "execution_count": 0,
      "outputs": []
    },
    {
      "cell_type": "code",
      "metadata": {
        "colab_type": "code",
        "id": "mdq1NHk4Hena",
        "colab": {}
      },
      "source": [
        "from catboost import CatBoostClassifier\n",
        "import spacy"
      ],
      "execution_count": 0,
      "outputs": []
    },
    {
      "cell_type": "code",
      "metadata": {
        "colab_type": "code",
        "id": "22DLJPyMPdvI",
        "colab": {}
      },
      "source": [
        "spacy_nlp = spacy.load('fr_core_news_sm')\n",
        "spacy_english = spacy.load('en_core_web_sm')\n",
        "stopwords = nltk.corpus.stopwords.words('french') #+ nltk.corpus.stopwords.words('english')"
      ],
      "execution_count": 0,
      "outputs": []
    },
    {
      "cell_type": "code",
      "metadata": {
        "colab_type": "code",
        "id": "P2ImSOHUbOkv",
        "colab": {}
      },
      "source": [
        "def normalize_accent(string):\n",
        "    string = string.replace('á', 'a')\n",
        "    string = string.replace('â', 'a')\n",
        "\n",
        "    string = string.replace('é', 'e')\n",
        "    string = string.replace('è', 'e')\n",
        "    string = string.replace('ê', 'e')\n",
        "    string = string.replace('ë', 'e')\n",
        "\n",
        "    string = string.replace('î', 'i')\n",
        "    string = string.replace('ï', 'i')\n",
        "\n",
        "    string = string.replace('ö', 'o')\n",
        "    string = string.replace('ô', 'o')\n",
        "    string = string.replace('ò', 'o')\n",
        "    string = string.replace('ó', 'o')\n",
        "\n",
        "    string = string.replace('ù', 'u')\n",
        "    string = string.replace('û', 'u')\n",
        "    string = string.replace('ü', 'u')\n",
        "\n",
        "    string = string.replace('ç', 'c')\n",
        "    \n",
        "    return string\n",
        "def raw_to_tokens(raw_string, spacy_nlp):\n",
        "    # Write code for lower-casing\n",
        "    string = raw_string.lower()\n",
        "    \n",
        "    # Write code to normalize the accents\n",
        "    string = normalize_accent(string)\n",
        "    string = unidecode.unidecode(string)\n",
        "        \n",
        "    # Write code to tokenize\n",
        "    spacy_tokens = spacy_nlp(string)\n",
        "        \n",
        "    # Write code to remove punctuation tokens and create string tokens\n",
        "    string_tokens = [token.lemma_ for token in spacy_tokens if not token.is_punct if not token.is_stop]\n",
        "\n",
        "    #removing stopwords and non-alphabets\n",
        "    string_stem = [word for word in string_tokens if (word not in stopwords and not word.isalnum())]  \n",
        "    \n",
        "    # Write code to join the tokens back into a single string\n",
        "    clean_string = \" \".join(string_tokens)\n",
        "    \n",
        "    return clean_string"
      ],
      "execution_count": 0,
      "outputs": []
    },
    {
      "cell_type": "code",
      "metadata": {
        "colab_type": "code",
        "id": "9BkHFnlfDuE4",
        "outputId": "748450b9-55c6-4d82-b19d-d322d4da0053",
        "colab": {
          "base_uri": "https://localhost:8080/",
          "height": 34
        }
      },
      "source": [
        "s= \"Mini Wifi 720p CamÃ©ra Drone Rc Quadcopter 24 Ghz 4ch 6-Axis Gyro 3d Ufo Fpv Rc _1975 @Cocoworld-GÃ©nÃ©rique\"\n",
        "raw_to_tokens(s, spacy_nlp)"
      ],
      "execution_count": 0,
      "outputs": [
        {
          "output_type": "execute_result",
          "data": {
            "text/plain": [
              "'mini wifi 720p cama(c)ra drone rc quadcopter 24 ghz 4ch 6-axis gyro 3d ufo fpv rc 1975 @cocoworld ga(c)na(c)rique'"
            ]
          },
          "metadata": {
            "tags": []
          },
          "execution_count": 8
        }
      ]
    },
    {
      "cell_type": "code",
      "metadata": {
        "colab_type": "code",
        "id": "XE4uCeqACURP",
        "colab": {}
      },
      "source": [
        "train_df=pd.read_csv(\"X_train_update.csv\")\n",
        "test_df=pd.read_csv(\"X_test_update.csv\")\n",
        "train_Y=pd.read_csv(\"Y_train.csv\")"
      ],
      "execution_count": 0,
      "outputs": []
    },
    {
      "cell_type": "code",
      "metadata": {
        "colab_type": "code",
        "id": "m0JqRZuECURX",
        "colab": {}
      },
      "source": [
        "# train_df=train_df.drop(['description','productid','imageid'],axis=1)\n",
        "# test_df=test_df.drop(['description','productid','imageid'],axis=1) "
      ],
      "execution_count": 0,
      "outputs": []
    },
    {
      "cell_type": "code",
      "metadata": {
        "colab_type": "code",
        "id": "aBuFHVxeCURZ",
        "outputId": "e2bcf5fc-2742-4854-c05b-4c144e3c5863",
        "colab": {
          "base_uri": "https://localhost:8080/",
          "height": 204
        }
      },
      "source": [
        "train_df.fillna('0', inplace=True)\n",
        "test_df.fillna('0', inplace=True)\n",
        "#x_test.fillna('0')\n",
        "train_df.head()"
      ],
      "execution_count": 0,
      "outputs": [
        {
          "output_type": "execute_result",
          "data": {
            "text/html": [
              "<div>\n",
              "<style scoped>\n",
              "    .dataframe tbody tr th:only-of-type {\n",
              "        vertical-align: middle;\n",
              "    }\n",
              "\n",
              "    .dataframe tbody tr th {\n",
              "        vertical-align: top;\n",
              "    }\n",
              "\n",
              "    .dataframe thead th {\n",
              "        text-align: right;\n",
              "    }\n",
              "</style>\n",
              "<table border=\"1\" class=\"dataframe\">\n",
              "  <thead>\n",
              "    <tr style=\"text-align: right;\">\n",
              "      <th></th>\n",
              "      <th>Unnamed: 0</th>\n",
              "      <th>designation</th>\n",
              "      <th>description</th>\n",
              "      <th>productid</th>\n",
              "      <th>imageid</th>\n",
              "    </tr>\n",
              "  </thead>\n",
              "  <tbody>\n",
              "    <tr>\n",
              "      <th>0</th>\n",
              "      <td>0</td>\n",
              "      <td>Olivia: Personalisiertes Notizbuch / 150 Seite...</td>\n",
              "      <td>0</td>\n",
              "      <td>3804725264</td>\n",
              "      <td>1263597046</td>\n",
              "    </tr>\n",
              "    <tr>\n",
              "      <th>1</th>\n",
              "      <td>1</td>\n",
              "      <td>Journal Des Arts (Le) N° 133 Du 28/09/2001 - L...</td>\n",
              "      <td>0</td>\n",
              "      <td>436067568</td>\n",
              "      <td>1008141237</td>\n",
              "    </tr>\n",
              "    <tr>\n",
              "      <th>2</th>\n",
              "      <td>2</td>\n",
              "      <td>Grand Stylet Ergonomique Bleu Gamepad Nintendo...</td>\n",
              "      <td>PILOT STYLE Touch Pen de marque Speedlink est ...</td>\n",
              "      <td>201115110</td>\n",
              "      <td>938777978</td>\n",
              "    </tr>\n",
              "    <tr>\n",
              "      <th>3</th>\n",
              "      <td>3</td>\n",
              "      <td>Peluche Donald - Europe - Disneyland 2000 (Mar...</td>\n",
              "      <td>0</td>\n",
              "      <td>50418756</td>\n",
              "      <td>457047496</td>\n",
              "    </tr>\n",
              "    <tr>\n",
              "      <th>4</th>\n",
              "      <td>4</td>\n",
              "      <td>La Guerre Des Tuques</td>\n",
              "      <td>Luc a des id&amp;eacute;es de grandeur. Il veut or...</td>\n",
              "      <td>278535884</td>\n",
              "      <td>1077757786</td>\n",
              "    </tr>\n",
              "  </tbody>\n",
              "</table>\n",
              "</div>"
            ],
            "text/plain": [
              "   Unnamed: 0                                        designation  \\\n",
              "0           0  Olivia: Personalisiertes Notizbuch / 150 Seite...   \n",
              "1           1  Journal Des Arts (Le) N° 133 Du 28/09/2001 - L...   \n",
              "2           2  Grand Stylet Ergonomique Bleu Gamepad Nintendo...   \n",
              "3           3  Peluche Donald - Europe - Disneyland 2000 (Mar...   \n",
              "4           4                               La Guerre Des Tuques   \n",
              "\n",
              "                                         description   productid     imageid  \n",
              "0                                                  0  3804725264  1263597046  \n",
              "1                                                  0   436067568  1008141237  \n",
              "2  PILOT STYLE Touch Pen de marque Speedlink est ...   201115110   938777978  \n",
              "3                                                  0    50418756   457047496  \n",
              "4  Luc a des id&eacute;es de grandeur. Il veut or...   278535884  1077757786  "
            ]
          },
          "metadata": {
            "tags": []
          },
          "execution_count": 12
        }
      ]
    },
    {
      "cell_type": "code",
      "metadata": {
        "colab_type": "code",
        "id": "FcyVvjOdPdvW",
        "colab": {}
      },
      "source": [
        "##################################Extra features extracted from designation column####################################\n",
        "\n",
        "# Number of words\n",
        "train_df['wordcnt'] = train_df['designation'].apply(lambda x: len(str(x).split()))\n",
        "test_df['wordcnt'] = test_df['designation'].apply(lambda x: len(str(x).split()))\n",
        "\n",
        "# Number of capital letters\n",
        "train_df['capitalcnt'] = train_df['designation'].apply(lambda x: len([c for c in str(x) if c.isupper()]))\n",
        "test_df['capitalcnt'] = test_df['designation'].apply(lambda x: len([c for c in str(x) if c.isupper()]))\n",
        "\n",
        "#Number of special characters\n",
        "train_df['specialcnt'] = train_df['designation'].str.findall(r'[^a-zA-Z0-9 ]').str.len()\n",
        "test_df['specialcnt'] = test_df['designation'].str.findall(r'[^a-zA-Z0-9 ]').str.len()\n",
        "\n",
        "#Number of unique words\n",
        "train_df['uniquecnt'] = train_df['designation'].apply(lambda x: len(set(str(x).split())))\n",
        "test_df['uniquecnt'] = test_df['designation'].apply(lambda x: len(set(str(x).split())))\n",
        "\n",
        "#Numbers of digits\n",
        "train_df['digitcnt'] = train_df['designation'].apply(lambda x: sum(c.isdigit() for c in x))\n",
        "test_df['digitcnt'] = test_df['designation'].apply(lambda x: sum(c.isdigit() for c in x))\n",
        "\n",
        "#Number of characters\n",
        "train_df['charcnt'] = train_df['designation'].apply(lambda x: len(str(x)))\n",
        "test_df['charcnt'] = test_df['designation'].apply(lambda x: len(str(x)))\n",
        "\n",
        "#Number of stopwords\n",
        "train_df['stopcnt'] = train_df['designation'].apply(lambda x: len([w for w in str(x).lower().split() if w in stopwords]))\n",
        "test_df['stopcnt'] = test_df['designation'].apply(lambda x: len([w for w in str(x).lower().split() if w in stopwords]))"
      ],
      "execution_count": 0,
      "outputs": []
    },
    {
      "cell_type": "code",
      "metadata": {
        "colab_type": "code",
        "id": "4i-XSuEpCURi",
        "colab": {}
      },
      "source": [
        "designation=(train_df['designation'])\n",
        "#desig=x_test['designation']\n",
        "vec=[]\n",
        "for string in designation:\n",
        "    doc=raw_to_tokens(string,spacy_nlp)\n",
        "    vec.append(doc)"
      ],
      "execution_count": 0,
      "outputs": []
    },
    {
      "cell_type": "code",
      "metadata": {
        "colab_type": "code",
        "id": "jVYDEEB6UrzW",
        "colab": {}
      },
      "source": [
        "designation=(test_df['designation'])\n",
        "#desig=x_test['designation']\n",
        "vec1=[]\n",
        "for string in designation:\n",
        "    doc=raw_to_tokens(string,spacy_nlp)\n",
        "    vec1.append(doc)"
      ],
      "execution_count": 0,
      "outputs": []
    },
    {
      "cell_type": "code",
      "metadata": {
        "colab_type": "code",
        "id": "zbt5TYuoCURs",
        "colab": {}
      },
      "source": [
        "tfidf = TfidfVectorizer(min_df = 2)\n",
        "train_tfidf = tfidf.fit_transform(vec)\n",
        "test_tfidf = tfidf.transform(vec1)\n",
        "print(\"Shape of the TF-IDF Matrix:\")\n",
        "print((train_tfidf.shape))\n",
        "print((test_tfidf.shape))\n",
        "#print(test_tfidf.shape)"
      ],
      "execution_count": 0,
      "outputs": []
    },
    {
      "cell_type": "code",
      "metadata": {
        "colab_type": "code",
        "id": "n30aYW-4IJXa",
        "colab": {}
      },
      "source": [
        "#write tfidf vector into csv file\n",
        "scipy.sparse.save_npz(\"/content/drive/My Drive/MDSBA/ELTA/train_tfidf_all_features.npz\", train_tfidf)\n",
        "#write tfidf vector into csv file\n",
        "scipy.sparse.save_npz(\"/content/drive/My Drive/MDSBA/ELTA/test_tfidf_all_features.npz\", test_tfidf)"
      ],
      "execution_count": 0,
      "outputs": []
    },
    {
      "cell_type": "code",
      "metadata": {
        "colab_type": "code",
        "id": "u_9liFCZLfWN",
        "colab": {}
      },
      "source": [
        "#loading tfidf matrix into variable\n",
        "train_tfidf = scipy.sparse.load_npz(\"train_tfidf_all_features.npz\")\n",
        "test_tfidf = scipy.sparse.load_npz(\"test_tfidf_all_features.npz\")"
      ],
      "execution_count": 0,
      "outputs": []
    },
    {
      "cell_type": "code",
      "metadata": {
        "colab_type": "code",
        "id": "yIMp7QsGU6WZ",
        "outputId": "ffde5ab2-5287-4b2b-9f7f-4d111545d377",
        "colab": {
          "base_uri": "https://localhost:8080/",
          "height": 204
        }
      },
      "source": [
        "del train_Y['Unnamed: 0']\n",
        "train_Y.head()"
      ],
      "execution_count": 0,
      "outputs": [
        {
          "output_type": "execute_result",
          "data": {
            "text/html": [
              "<div>\n",
              "<style scoped>\n",
              "    .dataframe tbody tr th:only-of-type {\n",
              "        vertical-align: middle;\n",
              "    }\n",
              "\n",
              "    .dataframe tbody tr th {\n",
              "        vertical-align: top;\n",
              "    }\n",
              "\n",
              "    .dataframe thead th {\n",
              "        text-align: right;\n",
              "    }\n",
              "</style>\n",
              "<table border=\"1\" class=\"dataframe\">\n",
              "  <thead>\n",
              "    <tr style=\"text-align: right;\">\n",
              "      <th></th>\n",
              "      <th>prdtypecode</th>\n",
              "    </tr>\n",
              "  </thead>\n",
              "  <tbody>\n",
              "    <tr>\n",
              "      <th>0</th>\n",
              "      <td>10</td>\n",
              "    </tr>\n",
              "    <tr>\n",
              "      <th>1</th>\n",
              "      <td>2280</td>\n",
              "    </tr>\n",
              "    <tr>\n",
              "      <th>2</th>\n",
              "      <td>50</td>\n",
              "    </tr>\n",
              "    <tr>\n",
              "      <th>3</th>\n",
              "      <td>1280</td>\n",
              "    </tr>\n",
              "    <tr>\n",
              "      <th>4</th>\n",
              "      <td>2705</td>\n",
              "    </tr>\n",
              "  </tbody>\n",
              "</table>\n",
              "</div>"
            ],
            "text/plain": [
              "   prdtypecode\n",
              "0           10\n",
              "1         2280\n",
              "2           50\n",
              "3         1280\n",
              "4         2705"
            ]
          },
          "metadata": {
            "tags": []
          },
          "execution_count": 15
        }
      ]
    },
    {
      "cell_type": "code",
      "metadata": {
        "colab_type": "code",
        "id": "DmHxduyJVjuY",
        "colab": {}
      },
      "source": [
        "# train_df.drop(['Unnamed: 0', 'designation'], axis=1, inplace=True)\n",
        "# test_df.drop(['Unnamed: 0', 'designation'], axis=1, inplace=True)\n",
        "# train_df.dtypes, test_df.dtypes\n",
        "# train_df_arr = train_df.to_numpy()\n",
        "# test_df_arr = test_df.to_numpy()\n",
        "# train_df_arr.shape, test_df_arr.shape, train_tfidf.shape, test_tfidf.shape\n",
        "# train_df_arr = train_df.to_numpy()\n",
        "# test_df_arr = test_df.to_numpy()\n",
        "# train_df_arr = scipy.sparse.csr_matrix(train_df.values)\n",
        "# test_df_arr = scipy.sparse.csr_matrix(test_df.values)\n",
        "# train_df_arr.shape, test_df_arr.shape, train_tfidf.shape, test_tfidf.shape\n",
        "\n",
        "\n",
        "# train_all = scipy.sparse.hstack([train_tfidf,train_df_arr])\n",
        "# test_all = scipy.sparse.hstack([test_tfidf,test_df_arr])\n",
        "# print(train_all.shape)\n",
        "# print(test_all.shape)\n",
        "# train_tfidf = train_tfidf.toarray()\n",
        "# test_tfidf = test_tfidf.toarray()\n",
        "\n",
        "\n",
        "# train_all = np.concatenate((train_tfidf,train_df_arr), axis=1)\n",
        "# test_all = np.concatenate((test_tfidf,test_df_arr), axis=1)\n",
        "# print(train_all.shape)\n",
        "# print(test_all.shape)"
      ],
      "execution_count": 0,
      "outputs": []
    },
    {
      "cell_type": "code",
      "metadata": {
        "colab_type": "code",
        "id": "Tfb3rspICURw",
        "colab": {}
      },
      "source": [
        "train_x, test_x, train_y, test_y = train_test_split(train_tfidf, train_Y.values.ravel(), test_size=0.3, random_state=42)"
      ],
      "execution_count": 0,
      "outputs": []
    },
    {
      "cell_type": "markdown",
      "metadata": {
        "id": "dAcGFeMGlETm",
        "colab_type": "text"
      },
      "source": [
        "# Bagging"
      ]
    },
    {
      "cell_type": "code",
      "metadata": {
        "colab_type": "code",
        "id": "miIn46tdJ_Ck",
        "outputId": "220c9488-8898-4a2b-c329-2efaf08ad240",
        "colab": {
          "base_uri": "https://localhost:8080/",
          "height": 374
        }
      },
      "source": [
        "clf = RandomForestClassifier(n_estimators=300)\n",
        "clf.fit(train_x,train_y)\n",
        "y_pred_rf = clf.predict(test_x)\n",
        "print(accuracy_score(y_pred_rf, test_y))\n",
        "score_rf = f1_score(test_y, y_pred_rf, average = 'weighted')\n",
        "print(score_rf)"
      ],
      "execution_count": 0,
      "outputs": [
        {
          "output_type": "stream",
          "text": [
            "0.7794700686947988\n",
            "0.7794146341233097\n"
          ],
          "name": "stdout"
        }
      ]
    },
    {
      "cell_type": "code",
      "metadata": {
        "colab_type": "code",
        "id": "j1uPwX8WYFtg",
        "outputId": "2006e515-50be-4a4a-b2da-0fa6c3d204cf",
        "colab": {
          "base_uri": "https://localhost:8080/",
          "height": 35
        }
      },
      "source": [
        "clf = ExtraTreesClassifier(n_estimators=200)\n",
        "clf.fit(train_x,train_y)\n",
        "y_pred_et = clf.predict(test_x)\n",
        "print(accuracy_score(y_pred_et, test_y))\n",
        "score_et = f1_score(test_y, y_pred_et, average = 'weighted')\n",
        "print(score_et)"
      ],
      "execution_count": 0,
      "outputs": [
        {
          "output_type": "stream",
          "text": [
            "0.7881059862610402\n",
            "0.7869144408076344\n"
          ],
          "name": "stdout"
        }
      ]
    },
    {
      "cell_type": "markdown",
      "metadata": {
        "id": "FaCp9ORZlEUA",
        "colab_type": "text"
      },
      "source": [
        "# Boosting"
      ]
    },
    {
      "cell_type": "code",
      "metadata": {
        "colab_type": "code",
        "id": "5VAIJVpaVpTj",
        "outputId": "97fe4cca-96ba-4db4-917f-2f0c0edf411f",
        "colab": {
          "base_uri": "https://localhost:8080/",
          "height": 35
        }
      },
      "source": [
        "clf = XGBClassifier()\n",
        "clf.fit(train_x,train_y)\n",
        "y_pred_xgb = clf.predict(test_x)\n",
        "print(accuracy_score(y_pred_xgb, test_y))\n",
        "score_xgb = f1_score(test_y, y_pred_xgb, average = 'weighted')\n",
        "print(score_xgb)"
      ],
      "execution_count": 0,
      "outputs": [
        {
          "output_type": "stream",
          "text": [
            "0.7692247301275761\n",
            "0.7746888942611513\n"
          ],
          "name": "stdout"
        }
      ]
    },
    {
      "cell_type": "code",
      "metadata": {
        "colab_type": "code",
        "id": "bofoahK0pvnI",
        "outputId": "bc2b5900-0dcc-495e-c26a-f615dc3a25d9",
        "colab": {
          "base_uri": "https://localhost:8080/",
          "height": 35
        }
      },
      "source": [
        "clf = AdaBoostClassifier(n_estimators=300, learning_rate=0.8)\n",
        "clf.fit(train_x,train_y)\n",
        "y_pred_ab = clf.predict(test_x)\n",
        "print(accuracy_score(y_pred_ab, test_y))\n",
        "score_ab = f1_score(test_y, y_pred_ab, average = 'weighted')\n",
        "print(score_ab)"
      ],
      "execution_count": 0,
      "outputs": [
        {
          "output_type": "stream",
          "text": [
            "0.3820215897939156\n",
            "0.35040405841300515\n"
          ],
          "name": "stdout"
        }
      ]
    },
    {
      "cell_type": "code",
      "metadata": {
        "colab_type": "code",
        "id": "GHhAckuhqBQT",
        "outputId": "89ddbac9-ee57-4d77-986f-a27952197f54",
        "colab": {
          "base_uri": "https://localhost:8080/",
          "height": 35
        }
      },
      "source": [
        "clf = GradientBoostingClassifier(n_estimators=200)\n",
        "clf.fit(train_x,train_y)\n",
        "y_pred_gb = clf.predict(test_x)\n",
        "print(accuracy_score(y_pred_gb, test_y))\n",
        "score_gb = f1_score(test_y, y_pred_gb, average = 'weighted')\n",
        "print(score_gb)"
      ],
      "execution_count": 0,
      "outputs": [
        {
          "output_type": "stream",
          "text": [
            "0.746810598626104\n",
            "0.7423995374335393\n"
          ],
          "name": "stdout"
        }
      ]
    },
    {
      "cell_type": "code",
      "metadata": {
        "colab_type": "code",
        "id": "MJYvkH6OJs5V",
        "colab": {}
      },
      "source": [
        "# clf = HistGradientBoostingClassifier()\n",
        "# clf.fit(train_x_hgbm,train_y_hgbm)\n",
        "# y_pred_hgb = clf.predict(test_x_hgbm)\n",
        "# print(accuracy_score(y_pred_hgb, test_y_hgbm))\n",
        "# score_hgb = f1_score(test_y_hgbm, y_pred_hgb, average = 'weighted')"
      ],
      "execution_count": 0,
      "outputs": []
    },
    {
      "cell_type": "code",
      "metadata": {
        "colab_type": "code",
        "id": "jqufyU4nqSul",
        "outputId": "1a6743a1-c0b4-4638-973e-c71e72a51bb4",
        "colab": {
          "base_uri": "https://localhost:8080/",
          "height": 1000
        }
      },
      "source": [
        "#CatBoostClassifier\n",
        "clf = CatBoostClassifier(iterations=1000, \n",
        "                           task_type=\"GPU\",\n",
        "                           devices='0:1')\n",
        "clf.fit(train_x,train_y)\n",
        "y_pred_cb = clf.predict(test_x)\n",
        "print(accuracy_score(y_pred_cb, test_y))\n",
        "score_cb = f1_score(test_y, y_pred_cb, average = 'weighted')\n",
        "print(score_cb)"
      ],
      "execution_count": 0,
      "outputs": [
        {
          "output_type": "stream",
          "text": [
            "Learning rate set to 0.149347\n",
            "0:\tlearn: 2.7944004\ttotal: 1.45s\tremaining: 24m 4s\n",
            "1:\tlearn: 2.6242708\ttotal: 2.64s\tremaining: 21m 58s\n",
            "2:\tlearn: 2.5357734\ttotal: 3.8s\tremaining: 21m 4s\n",
            "3:\tlearn: 2.4613866\ttotal: 5.19s\tremaining: 21m 31s\n",
            "4:\tlearn: 2.3894587\ttotal: 6.28s\tremaining: 20m 49s\n",
            "5:\tlearn: 2.3368719\ttotal: 7.39s\tremaining: 20m 24s\n",
            "6:\tlearn: 2.2964636\ttotal: 8.53s\tremaining: 20m 10s\n",
            "7:\tlearn: 2.2659318\ttotal: 9.59s\tremaining: 19m 48s\n",
            "8:\tlearn: 2.2307853\ttotal: 10.7s\tremaining: 19m 34s\n",
            "9:\tlearn: 2.2073161\ttotal: 11.8s\tremaining: 19m 25s\n",
            "10:\tlearn: 2.1881944\ttotal: 13s\tremaining: 19m 28s\n",
            "11:\tlearn: 2.1486920\ttotal: 14.3s\tremaining: 19m 38s\n",
            "12:\tlearn: 2.1346854\ttotal: 15.4s\tremaining: 19m 29s\n",
            "13:\tlearn: 2.1132140\ttotal: 16.4s\tremaining: 19m 18s\n",
            "14:\tlearn: 2.0990561\ttotal: 17.6s\tremaining: 19m 16s\n",
            "15:\tlearn: 2.0853834\ttotal: 18.8s\tremaining: 19m 18s\n",
            "16:\tlearn: 2.0665071\ttotal: 19.9s\tremaining: 19m 11s\n",
            "17:\tlearn: 2.0523100\ttotal: 21s\tremaining: 19m 4s\n",
            "18:\tlearn: 2.0368489\ttotal: 22s\tremaining: 18m 58s\n",
            "19:\tlearn: 2.0255887\ttotal: 23s\tremaining: 18m 45s\n",
            "20:\tlearn: 2.0024001\ttotal: 24.2s\tremaining: 18m 47s\n",
            "21:\tlearn: 1.9903753\ttotal: 25.2s\tremaining: 18m 42s\n",
            "22:\tlearn: 1.9787559\ttotal: 26.3s\tremaining: 18m 38s\n",
            "23:\tlearn: 1.9716569\ttotal: 27.3s\tremaining: 18m 31s\n",
            "24:\tlearn: 1.9566754\ttotal: 28.4s\tremaining: 18m 26s\n",
            "25:\tlearn: 1.9441665\ttotal: 29.6s\tremaining: 18m 28s\n",
            "26:\tlearn: 1.9350050\ttotal: 30.6s\tremaining: 18m 22s\n",
            "27:\tlearn: 1.9210562\ttotal: 32.2s\tremaining: 18m 36s\n",
            "28:\tlearn: 1.9140135\ttotal: 33.1s\tremaining: 18m 28s\n",
            "29:\tlearn: 1.9056808\ttotal: 34.2s\tremaining: 18m 25s\n",
            "30:\tlearn: 1.8970154\ttotal: 35.3s\tremaining: 18m 23s\n",
            "31:\tlearn: 1.8882530\ttotal: 36.5s\tremaining: 18m 22s\n",
            "32:\tlearn: 1.8762043\ttotal: 37.5s\tremaining: 18m 17s\n",
            "33:\tlearn: 1.8696758\ttotal: 38.5s\tremaining: 18m 14s\n",
            "34:\tlearn: 1.8587311\ttotal: 39.7s\tremaining: 18m 13s\n",
            "35:\tlearn: 1.8525093\ttotal: 40.9s\tremaining: 18m 14s\n",
            "36:\tlearn: 1.8430204\ttotal: 42s\tremaining: 18m 13s\n",
            "37:\tlearn: 1.8319323\ttotal: 43.1s\tremaining: 18m 10s\n",
            "38:\tlearn: 1.8233077\ttotal: 44.1s\tremaining: 18m 5s\n",
            "39:\tlearn: 1.8179025\ttotal: 45s\tremaining: 18m\n",
            "40:\tlearn: 1.8107063\ttotal: 46.2s\tremaining: 18m\n",
            "41:\tlearn: 1.8040377\ttotal: 47.2s\tremaining: 17m 56s\n",
            "42:\tlearn: 1.7976947\ttotal: 48.2s\tremaining: 17m 53s\n",
            "43:\tlearn: 1.7921742\ttotal: 49.2s\tremaining: 17m 48s\n",
            "44:\tlearn: 1.7854353\ttotal: 50.2s\tremaining: 17m 44s\n",
            "45:\tlearn: 1.7792704\ttotal: 51.3s\tremaining: 17m 43s\n",
            "46:\tlearn: 1.7750525\ttotal: 52.2s\tremaining: 17m 39s\n",
            "47:\tlearn: 1.7684119\ttotal: 53.4s\tremaining: 17m 38s\n",
            "48:\tlearn: 1.7618916\ttotal: 54.4s\tremaining: 17m 36s\n",
            "49:\tlearn: 1.7572422\ttotal: 55.4s\tremaining: 17m 33s\n",
            "50:\tlearn: 1.7530931\ttotal: 56.4s\tremaining: 17m 29s\n",
            "51:\tlearn: 1.7488841\ttotal: 57.3s\tremaining: 17m 25s\n",
            "52:\tlearn: 1.7435104\ttotal: 58.4s\tremaining: 17m 22s\n",
            "53:\tlearn: 1.7389528\ttotal: 59.4s\tremaining: 17m 20s\n",
            "54:\tlearn: 1.7330219\ttotal: 1m\tremaining: 17m 16s\n",
            "55:\tlearn: 1.7257028\ttotal: 1m 1s\tremaining: 17m 17s\n",
            "56:\tlearn: 1.7195452\ttotal: 1m 2s\tremaining: 17m 18s\n",
            "57:\tlearn: 1.7148158\ttotal: 1m 3s\tremaining: 17m 16s\n",
            "58:\tlearn: 1.7106481\ttotal: 1m 4s\tremaining: 17m 12s\n",
            "59:\tlearn: 1.7032940\ttotal: 1m 5s\tremaining: 17m 12s\n",
            "60:\tlearn: 1.6976307\ttotal: 1m 6s\tremaining: 17m 10s\n",
            "61:\tlearn: 1.6930695\ttotal: 1m 7s\tremaining: 17m 7s\n",
            "62:\tlearn: 1.6883987\ttotal: 1m 8s\tremaining: 17m 5s\n",
            "63:\tlearn: 1.6831550\ttotal: 1m 9s\tremaining: 17m 2s\n",
            "64:\tlearn: 1.6797004\ttotal: 1m 10s\tremaining: 16m 59s\n",
            "65:\tlearn: 1.6751518\ttotal: 1m 11s\tremaining: 16m 57s\n",
            "66:\tlearn: 1.6708514\ttotal: 1m 13s\tremaining: 16m 56s\n",
            "67:\tlearn: 1.6667135\ttotal: 1m 14s\tremaining: 16m 55s\n",
            "68:\tlearn: 1.6628825\ttotal: 1m 15s\tremaining: 16m 53s\n",
            "69:\tlearn: 1.6592749\ttotal: 1m 16s\tremaining: 16m 51s\n",
            "70:\tlearn: 1.6535492\ttotal: 1m 17s\tremaining: 16m 49s\n",
            "71:\tlearn: 1.6493730\ttotal: 1m 18s\tremaining: 16m 48s\n",
            "72:\tlearn: 1.6456606\ttotal: 1m 19s\tremaining: 16m 46s\n",
            "73:\tlearn: 1.6408066\ttotal: 1m 20s\tremaining: 16m 44s\n",
            "74:\tlearn: 1.6365528\ttotal: 1m 21s\tremaining: 16m 42s\n",
            "75:\tlearn: 1.6334430\ttotal: 1m 22s\tremaining: 16m 40s\n",
            "76:\tlearn: 1.6301545\ttotal: 1m 23s\tremaining: 16m 38s\n",
            "77:\tlearn: 1.6251993\ttotal: 1m 24s\tremaining: 16m 36s\n",
            "78:\tlearn: 1.6226870\ttotal: 1m 25s\tremaining: 16m 33s\n",
            "79:\tlearn: 1.6199613\ttotal: 1m 26s\tremaining: 16m 31s\n",
            "80:\tlearn: 1.6168077\ttotal: 1m 27s\tremaining: 16m 29s\n",
            "81:\tlearn: 1.6143183\ttotal: 1m 28s\tremaining: 16m 27s\n",
            "82:\tlearn: 1.6113224\ttotal: 1m 29s\tremaining: 16m 24s\n",
            "83:\tlearn: 1.6074398\ttotal: 1m 30s\tremaining: 16m 22s\n",
            "84:\tlearn: 1.6038893\ttotal: 1m 31s\tremaining: 16m 23s\n",
            "85:\tlearn: 1.5998544\ttotal: 1m 32s\tremaining: 16m 23s\n",
            "86:\tlearn: 1.5978393\ttotal: 1m 33s\tremaining: 16m 21s\n",
            "87:\tlearn: 1.5946765\ttotal: 1m 34s\tremaining: 16m 19s\n",
            "88:\tlearn: 1.5913788\ttotal: 1m 35s\tremaining: 16m 18s\n",
            "89:\tlearn: 1.5881481\ttotal: 1m 36s\tremaining: 16m 17s\n",
            "90:\tlearn: 1.5854958\ttotal: 1m 37s\tremaining: 16m 14s\n",
            "91:\tlearn: 1.5796846\ttotal: 1m 38s\tremaining: 16m 13s\n",
            "92:\tlearn: 1.5766558\ttotal: 1m 39s\tremaining: 16m 12s\n",
            "93:\tlearn: 1.5725028\ttotal: 1m 40s\tremaining: 16m 11s\n",
            "94:\tlearn: 1.5688892\ttotal: 1m 42s\tremaining: 16m 12s\n",
            "95:\tlearn: 1.5665928\ttotal: 1m 42s\tremaining: 16m 9s\n",
            "96:\tlearn: 1.5642143\ttotal: 1m 43s\tremaining: 16m 8s\n",
            "97:\tlearn: 1.5617815\ttotal: 1m 45s\tremaining: 16m 7s\n",
            "98:\tlearn: 1.5574539\ttotal: 1m 46s\tremaining: 16m 5s\n",
            "99:\tlearn: 1.5541386\ttotal: 1m 47s\tremaining: 16m 4s\n",
            "100:\tlearn: 1.5513630\ttotal: 1m 48s\tremaining: 16m 3s\n",
            "101:\tlearn: 1.5464526\ttotal: 1m 49s\tremaining: 16m 5s\n",
            "102:\tlearn: 1.5444456\ttotal: 1m 50s\tremaining: 16m 3s\n",
            "103:\tlearn: 1.5418720\ttotal: 1m 51s\tremaining: 16m 2s\n",
            "104:\tlearn: 1.5389829\ttotal: 1m 52s\tremaining: 16m 1s\n",
            "105:\tlearn: 1.5364182\ttotal: 1m 53s\tremaining: 15m 59s\n",
            "106:\tlearn: 1.5326517\ttotal: 1m 54s\tremaining: 15m 58s\n",
            "107:\tlearn: 1.5305596\ttotal: 1m 55s\tremaining: 15m 56s\n",
            "108:\tlearn: 1.5286572\ttotal: 1m 56s\tremaining: 15m 54s\n",
            "109:\tlearn: 1.5266220\ttotal: 1m 57s\tremaining: 15m 52s\n",
            "110:\tlearn: 1.5246857\ttotal: 1m 58s\tremaining: 15m 50s\n",
            "111:\tlearn: 1.5213460\ttotal: 1m 59s\tremaining: 15m 50s\n",
            "112:\tlearn: 1.5193803\ttotal: 2m\tremaining: 15m 48s\n",
            "113:\tlearn: 1.5173248\ttotal: 2m 1s\tremaining: 15m 46s\n",
            "114:\tlearn: 1.5149732\ttotal: 2m 2s\tremaining: 15m 44s\n",
            "115:\tlearn: 1.5118014\ttotal: 2m 3s\tremaining: 15m 43s\n",
            "116:\tlearn: 1.5094780\ttotal: 2m 4s\tremaining: 15m 42s\n",
            "117:\tlearn: 1.5078150\ttotal: 2m 5s\tremaining: 15m 39s\n",
            "118:\tlearn: 1.5049665\ttotal: 2m 7s\tremaining: 15m 40s\n",
            "119:\tlearn: 1.5022769\ttotal: 2m 8s\tremaining: 15m 38s\n",
            "120:\tlearn: 1.5004379\ttotal: 2m 9s\tremaining: 15m 38s\n",
            "121:\tlearn: 1.4978749\ttotal: 2m 10s\tremaining: 15m 36s\n",
            "122:\tlearn: 1.4955585\ttotal: 2m 11s\tremaining: 15m 34s\n",
            "123:\tlearn: 1.4911492\ttotal: 2m 12s\tremaining: 15m 37s\n",
            "124:\tlearn: 1.4896683\ttotal: 2m 13s\tremaining: 15m 35s\n",
            "125:\tlearn: 1.4866459\ttotal: 2m 14s\tremaining: 15m 34s\n",
            "126:\tlearn: 1.4833112\ttotal: 2m 16s\tremaining: 15m 35s\n",
            "127:\tlearn: 1.4807833\ttotal: 2m 17s\tremaining: 15m 33s\n",
            "128:\tlearn: 1.4793984\ttotal: 2m 18s\tremaining: 15m 31s\n",
            "129:\tlearn: 1.4760071\ttotal: 2m 19s\tremaining: 15m 31s\n",
            "130:\tlearn: 1.4741422\ttotal: 2m 20s\tremaining: 15m 29s\n",
            "131:\tlearn: 1.4716194\ttotal: 2m 21s\tremaining: 15m 28s\n",
            "132:\tlearn: 1.4697280\ttotal: 2m 22s\tremaining: 15m 26s\n",
            "133:\tlearn: 1.4681557\ttotal: 2m 23s\tremaining: 15m 25s\n",
            "134:\tlearn: 1.4667217\ttotal: 2m 24s\tremaining: 15m 23s\n",
            "135:\tlearn: 1.4640610\ttotal: 2m 25s\tremaining: 15m 21s\n",
            "136:\tlearn: 1.4622458\ttotal: 2m 26s\tremaining: 15m 19s\n",
            "137:\tlearn: 1.4602059\ttotal: 2m 27s\tremaining: 15m 18s\n",
            "138:\tlearn: 1.4586410\ttotal: 2m 28s\tremaining: 15m 17s\n",
            "139:\tlearn: 1.4571253\ttotal: 2m 28s\tremaining: 15m 15s\n",
            "140:\tlearn: 1.4541861\ttotal: 2m 30s\tremaining: 15m 15s\n",
            "141:\tlearn: 1.4527668\ttotal: 2m 31s\tremaining: 15m 13s\n",
            "142:\tlearn: 1.4515139\ttotal: 2m 32s\tremaining: 15m 11s\n",
            "143:\tlearn: 1.4485390\ttotal: 2m 33s\tremaining: 15m 10s\n",
            "144:\tlearn: 1.4463395\ttotal: 2m 34s\tremaining: 15m 9s\n",
            "145:\tlearn: 1.4433241\ttotal: 2m 35s\tremaining: 15m 8s\n",
            "146:\tlearn: 1.4422065\ttotal: 2m 36s\tremaining: 15m 6s\n",
            "147:\tlearn: 1.4403780\ttotal: 2m 37s\tremaining: 15m 5s\n",
            "148:\tlearn: 1.4390287\ttotal: 2m 38s\tremaining: 15m 3s\n",
            "149:\tlearn: 1.4362578\ttotal: 2m 39s\tremaining: 15m 2s\n",
            "150:\tlearn: 1.4348031\ttotal: 2m 40s\tremaining: 15m 1s\n",
            "151:\tlearn: 1.4332128\ttotal: 2m 41s\tremaining: 15m\n",
            "152:\tlearn: 1.4312006\ttotal: 2m 42s\tremaining: 14m 58s\n",
            "153:\tlearn: 1.4280278\ttotal: 2m 43s\tremaining: 14m 56s\n",
            "154:\tlearn: 1.4268019\ttotal: 2m 44s\tremaining: 14m 55s\n",
            "155:\tlearn: 1.4244036\ttotal: 2m 45s\tremaining: 14m 53s\n",
            "156:\tlearn: 1.4224889\ttotal: 2m 46s\tremaining: 14m 52s\n",
            "157:\tlearn: 1.4199654\ttotal: 2m 47s\tremaining: 14m 52s\n",
            "158:\tlearn: 1.4186661\ttotal: 2m 48s\tremaining: 14m 50s\n",
            "159:\tlearn: 1.4169732\ttotal: 2m 49s\tremaining: 14m 49s\n",
            "160:\tlearn: 1.4158359\ttotal: 2m 50s\tremaining: 14m 47s\n",
            "161:\tlearn: 1.4134306\ttotal: 2m 51s\tremaining: 14m 47s\n",
            "162:\tlearn: 1.4121030\ttotal: 2m 52s\tremaining: 14m 45s\n",
            "163:\tlearn: 1.4105948\ttotal: 2m 53s\tremaining: 14m 44s\n",
            "164:\tlearn: 1.4086833\ttotal: 2m 54s\tremaining: 14m 43s\n",
            "165:\tlearn: 1.4066672\ttotal: 2m 55s\tremaining: 14m 42s\n",
            "166:\tlearn: 1.4041094\ttotal: 2m 56s\tremaining: 14m 41s\n",
            "167:\tlearn: 1.4019658\ttotal: 2m 57s\tremaining: 14m 39s\n",
            "168:\tlearn: 1.4004756\ttotal: 2m 58s\tremaining: 14m 38s\n",
            "169:\tlearn: 1.3996049\ttotal: 2m 59s\tremaining: 14m 36s\n",
            "170:\tlearn: 1.3980837\ttotal: 3m\tremaining: 14m 34s\n",
            "171:\tlearn: 1.3969222\ttotal: 3m 1s\tremaining: 14m 33s\n",
            "172:\tlearn: 1.3955248\ttotal: 3m 2s\tremaining: 14m 31s\n",
            "173:\tlearn: 1.3927483\ttotal: 3m 3s\tremaining: 14m 30s\n",
            "174:\tlearn: 1.3915371\ttotal: 3m 4s\tremaining: 14m 28s\n",
            "175:\tlearn: 1.3907308\ttotal: 3m 5s\tremaining: 14m 27s\n",
            "176:\tlearn: 1.3888851\ttotal: 3m 6s\tremaining: 14m 26s\n",
            "177:\tlearn: 1.3873401\ttotal: 3m 7s\tremaining: 14m 25s\n",
            "178:\tlearn: 1.3850089\ttotal: 3m 8s\tremaining: 14m 25s\n",
            "179:\tlearn: 1.3836655\ttotal: 3m 9s\tremaining: 14m 24s\n",
            "180:\tlearn: 1.3827432\ttotal: 3m 10s\tremaining: 14m 22s\n",
            "181:\tlearn: 1.3810810\ttotal: 3m 11s\tremaining: 14m 21s\n",
            "182:\tlearn: 1.3796054\ttotal: 3m 12s\tremaining: 14m 19s\n",
            "183:\tlearn: 1.3788176\ttotal: 3m 13s\tremaining: 14m 18s\n",
            "184:\tlearn: 1.3774976\ttotal: 3m 14s\tremaining: 14m 16s\n",
            "185:\tlearn: 1.3764101\ttotal: 3m 15s\tremaining: 14m 15s\n",
            "186:\tlearn: 1.3752856\ttotal: 3m 16s\tremaining: 14m 13s\n",
            "187:\tlearn: 1.3740737\ttotal: 3m 17s\tremaining: 14m 12s\n",
            "188:\tlearn: 1.3727031\ttotal: 3m 18s\tremaining: 14m 10s\n",
            "189:\tlearn: 1.3717278\ttotal: 3m 19s\tremaining: 14m 9s\n",
            "190:\tlearn: 1.3708361\ttotal: 3m 20s\tremaining: 14m 7s\n",
            "191:\tlearn: 1.3681864\ttotal: 3m 21s\tremaining: 14m 6s\n",
            "192:\tlearn: 1.3672371\ttotal: 3m 22s\tremaining: 14m 5s\n",
            "193:\tlearn: 1.3662090\ttotal: 3m 23s\tremaining: 14m 3s\n",
            "194:\tlearn: 1.3651110\ttotal: 3m 23s\tremaining: 14m 2s\n",
            "195:\tlearn: 1.3616594\ttotal: 3m 25s\tremaining: 14m 2s\n",
            "196:\tlearn: 1.3596622\ttotal: 3m 26s\tremaining: 14m 1s\n",
            "197:\tlearn: 1.3581280\ttotal: 3m 27s\tremaining: 14m\n",
            "198:\tlearn: 1.3569806\ttotal: 3m 28s\tremaining: 13m 58s\n",
            "199:\tlearn: 1.3557188\ttotal: 3m 29s\tremaining: 13m 57s\n",
            "200:\tlearn: 1.3542052\ttotal: 3m 30s\tremaining: 13m 56s\n",
            "201:\tlearn: 1.3532897\ttotal: 3m 31s\tremaining: 13m 55s\n",
            "202:\tlearn: 1.3524222\ttotal: 3m 32s\tremaining: 13m 53s\n",
            "203:\tlearn: 1.3511205\ttotal: 3m 33s\tremaining: 13m 52s\n",
            "204:\tlearn: 1.3494935\ttotal: 3m 34s\tremaining: 13m 51s\n",
            "205:\tlearn: 1.3481040\ttotal: 3m 35s\tremaining: 13m 49s\n",
            "206:\tlearn: 1.3457013\ttotal: 3m 36s\tremaining: 13m 49s\n",
            "207:\tlearn: 1.3436123\ttotal: 3m 37s\tremaining: 13m 48s\n",
            "208:\tlearn: 1.3424856\ttotal: 3m 38s\tremaining: 13m 46s\n",
            "209:\tlearn: 1.3414225\ttotal: 3m 39s\tremaining: 13m 45s\n",
            "210:\tlearn: 1.3399653\ttotal: 3m 40s\tremaining: 13m 44s\n",
            "211:\tlearn: 1.3388892\ttotal: 3m 41s\tremaining: 13m 42s\n",
            "212:\tlearn: 1.3381319\ttotal: 3m 42s\tremaining: 13m 41s\n",
            "213:\tlearn: 1.3367492\ttotal: 3m 43s\tremaining: 13m 40s\n",
            "214:\tlearn: 1.3358730\ttotal: 3m 44s\tremaining: 13m 39s\n",
            "215:\tlearn: 1.3351103\ttotal: 3m 45s\tremaining: 13m 37s\n",
            "216:\tlearn: 1.3335569\ttotal: 3m 46s\tremaining: 13m 36s\n",
            "217:\tlearn: 1.3327386\ttotal: 3m 47s\tremaining: 13m 34s\n",
            "218:\tlearn: 1.3314170\ttotal: 3m 48s\tremaining: 13m 33s\n",
            "219:\tlearn: 1.3305305\ttotal: 3m 49s\tremaining: 13m 32s\n",
            "220:\tlearn: 1.3295961\ttotal: 3m 50s\tremaining: 13m 30s\n",
            "221:\tlearn: 1.3282407\ttotal: 3m 50s\tremaining: 13m 29s\n",
            "222:\tlearn: 1.3272899\ttotal: 3m 51s\tremaining: 13m 28s\n",
            "223:\tlearn: 1.3263777\ttotal: 3m 52s\tremaining: 13m 26s\n",
            "224:\tlearn: 1.3245587\ttotal: 3m 54s\tremaining: 13m 26s\n",
            "225:\tlearn: 1.3231612\ttotal: 3m 55s\tremaining: 13m 25s\n",
            "226:\tlearn: 1.3223309\ttotal: 3m 56s\tremaining: 13m 24s\n",
            "227:\tlearn: 1.3201257\ttotal: 3m 57s\tremaining: 13m 23s\n",
            "228:\tlearn: 1.3193069\ttotal: 3m 58s\tremaining: 13m 22s\n",
            "229:\tlearn: 1.3184626\ttotal: 3m 59s\tremaining: 13m 21s\n",
            "230:\tlearn: 1.3175320\ttotal: 4m\tremaining: 13m 19s\n",
            "231:\tlearn: 1.3162172\ttotal: 4m 1s\tremaining: 13m 18s\n",
            "232:\tlearn: 1.3156409\ttotal: 4m 2s\tremaining: 13m 17s\n",
            "233:\tlearn: 1.3139296\ttotal: 4m 3s\tremaining: 13m 16s\n",
            "234:\tlearn: 1.3128277\ttotal: 4m 4s\tremaining: 13m 15s\n",
            "235:\tlearn: 1.3121861\ttotal: 4m 5s\tremaining: 13m 13s\n",
            "236:\tlearn: 1.3113423\ttotal: 4m 6s\tremaining: 13m 12s\n",
            "237:\tlearn: 1.3100425\ttotal: 4m 7s\tremaining: 13m 11s\n",
            "238:\tlearn: 1.3087987\ttotal: 4m 7s\tremaining: 13m 9s\n",
            "239:\tlearn: 1.3069651\ttotal: 4m 8s\tremaining: 13m 8s\n",
            "240:\tlearn: 1.3055087\ttotal: 4m 10s\tremaining: 13m 7s\n",
            "241:\tlearn: 1.3047707\ttotal: 4m 11s\tremaining: 13m 6s\n",
            "242:\tlearn: 1.3037681\ttotal: 4m 12s\tremaining: 13m 5s\n",
            "243:\tlearn: 1.3030325\ttotal: 4m 12s\tremaining: 13m 3s\n",
            "244:\tlearn: 1.3021293\ttotal: 4m 13s\tremaining: 13m 2s\n",
            "245:\tlearn: 1.3014356\ttotal: 4m 14s\tremaining: 13m 1s\n",
            "246:\tlearn: 1.3003120\ttotal: 4m 15s\tremaining: 12m 59s\n",
            "247:\tlearn: 1.2993461\ttotal: 4m 16s\tremaining: 12m 58s\n",
            "248:\tlearn: 1.2968625\ttotal: 4m 17s\tremaining: 12m 58s\n",
            "249:\tlearn: 1.2960186\ttotal: 4m 18s\tremaining: 12m 56s\n",
            "250:\tlearn: 1.2952074\ttotal: 4m 19s\tremaining: 12m 55s\n",
            "251:\tlearn: 1.2945509\ttotal: 4m 20s\tremaining: 12m 54s\n",
            "252:\tlearn: 1.2940814\ttotal: 4m 21s\tremaining: 12m 52s\n",
            "253:\tlearn: 1.2931159\ttotal: 4m 22s\tremaining: 12m 51s\n",
            "254:\tlearn: 1.2921300\ttotal: 4m 23s\tremaining: 12m 50s\n",
            "255:\tlearn: 1.2913705\ttotal: 4m 24s\tremaining: 12m 49s\n",
            "256:\tlearn: 1.2906931\ttotal: 4m 25s\tremaining: 12m 47s\n",
            "257:\tlearn: 1.2898155\ttotal: 4m 26s\tremaining: 12m 46s\n",
            "258:\tlearn: 1.2891596\ttotal: 4m 27s\tremaining: 12m 45s\n",
            "259:\tlearn: 1.2875922\ttotal: 4m 28s\tremaining: 12m 44s\n",
            "260:\tlearn: 1.2867000\ttotal: 4m 29s\tremaining: 12m 42s\n",
            "261:\tlearn: 1.2856105\ttotal: 4m 30s\tremaining: 12m 41s\n",
            "262:\tlearn: 1.2848293\ttotal: 4m 31s\tremaining: 12m 40s\n",
            "263:\tlearn: 1.2837708\ttotal: 4m 32s\tremaining: 12m 39s\n",
            "264:\tlearn: 1.2828430\ttotal: 4m 33s\tremaining: 12m 37s\n",
            "265:\tlearn: 1.2821309\ttotal: 4m 34s\tremaining: 12m 36s\n",
            "266:\tlearn: 1.2815811\ttotal: 4m 35s\tremaining: 12m 35s\n",
            "267:\tlearn: 1.2810471\ttotal: 4m 36s\tremaining: 12m 34s\n",
            "268:\tlearn: 1.2804705\ttotal: 4m 37s\tremaining: 12m 32s\n",
            "269:\tlearn: 1.2794325\ttotal: 4m 37s\tremaining: 12m 31s\n",
            "270:\tlearn: 1.2774491\ttotal: 4m 39s\tremaining: 12m 30s\n",
            "271:\tlearn: 1.2767688\ttotal: 4m 39s\tremaining: 12m 29s\n",
            "272:\tlearn: 1.2762023\ttotal: 4m 40s\tremaining: 12m 28s\n",
            "273:\tlearn: 1.2754028\ttotal: 4m 41s\tremaining: 12m 26s\n",
            "274:\tlearn: 1.2747960\ttotal: 4m 42s\tremaining: 12m 25s\n",
            "275:\tlearn: 1.2741162\ttotal: 4m 43s\tremaining: 12m 24s\n",
            "276:\tlearn: 1.2718543\ttotal: 4m 45s\tremaining: 12m 23s\n",
            "277:\tlearn: 1.2706585\ttotal: 4m 46s\tremaining: 12m 22s\n",
            "278:\tlearn: 1.2691362\ttotal: 4m 47s\tremaining: 12m 21s\n",
            "279:\tlearn: 1.2675672\ttotal: 4m 48s\tremaining: 12m 20s\n",
            "280:\tlearn: 1.2666669\ttotal: 4m 49s\tremaining: 12m 19s\n",
            "281:\tlearn: 1.2658442\ttotal: 4m 50s\tremaining: 12m 18s\n",
            "282:\tlearn: 1.2650563\ttotal: 4m 51s\tremaining: 12m 17s\n",
            "283:\tlearn: 1.2640252\ttotal: 4m 52s\tremaining: 12m 16s\n",
            "284:\tlearn: 1.2627243\ttotal: 4m 53s\tremaining: 12m 15s\n",
            "285:\tlearn: 1.2618453\ttotal: 4m 54s\tremaining: 12m 13s\n",
            "286:\tlearn: 1.2611353\ttotal: 4m 54s\tremaining: 12m 12s\n",
            "287:\tlearn: 1.2603799\ttotal: 4m 55s\tremaining: 12m 11s\n",
            "288:\tlearn: 1.2588751\ttotal: 4m 57s\tremaining: 12m 10s\n",
            "289:\tlearn: 1.2581964\ttotal: 4m 57s\tremaining: 12m 9s\n",
            "290:\tlearn: 1.2576788\ttotal: 4m 58s\tremaining: 12m 8s\n",
            "291:\tlearn: 1.2570414\ttotal: 4m 59s\tremaining: 12m 6s\n",
            "292:\tlearn: 1.2565722\ttotal: 5m\tremaining: 12m 5s\n",
            "293:\tlearn: 1.2560305\ttotal: 5m 1s\tremaining: 12m 4s\n",
            "294:\tlearn: 1.2548077\ttotal: 5m 2s\tremaining: 12m 3s\n",
            "295:\tlearn: 1.2541524\ttotal: 5m 3s\tremaining: 12m 2s\n",
            "296:\tlearn: 1.2535177\ttotal: 5m 4s\tremaining: 12m\n",
            "297:\tlearn: 1.2520044\ttotal: 5m 5s\tremaining: 12m\n",
            "298:\tlearn: 1.2510762\ttotal: 5m 6s\tremaining: 11m 58s\n",
            "299:\tlearn: 1.2499897\ttotal: 5m 7s\tremaining: 11m 57s\n",
            "300:\tlearn: 1.2489341\ttotal: 5m 8s\tremaining: 11m 56s\n",
            "301:\tlearn: 1.2482940\ttotal: 5m 9s\tremaining: 11m 55s\n",
            "302:\tlearn: 1.2475115\ttotal: 5m 10s\tremaining: 11m 54s\n",
            "303:\tlearn: 1.2466160\ttotal: 5m 11s\tremaining: 11m 53s\n",
            "304:\tlearn: 1.2459331\ttotal: 5m 12s\tremaining: 11m 52s\n",
            "305:\tlearn: 1.2453934\ttotal: 5m 13s\tremaining: 11m 50s\n",
            "306:\tlearn: 1.2449111\ttotal: 5m 14s\tremaining: 11m 49s\n",
            "307:\tlearn: 1.2440318\ttotal: 5m 15s\tremaining: 11m 48s\n",
            "308:\tlearn: 1.2427786\ttotal: 5m 16s\tremaining: 11m 47s\n",
            "309:\tlearn: 1.2421742\ttotal: 5m 17s\tremaining: 11m 46s\n",
            "310:\tlearn: 1.2415955\ttotal: 5m 18s\tremaining: 11m 44s\n",
            "311:\tlearn: 1.2410564\ttotal: 5m 19s\tremaining: 11m 43s\n",
            "312:\tlearn: 1.2406270\ttotal: 5m 20s\tremaining: 11m 42s\n",
            "313:\tlearn: 1.2397963\ttotal: 5m 21s\tremaining: 11m 41s\n",
            "314:\tlearn: 1.2393567\ttotal: 5m 21s\tremaining: 11m 40s\n",
            "315:\tlearn: 1.2387902\ttotal: 5m 22s\tremaining: 11m 38s\n",
            "316:\tlearn: 1.2380927\ttotal: 5m 23s\tremaining: 11m 37s\n",
            "317:\tlearn: 1.2363401\ttotal: 5m 24s\tremaining: 11m 36s\n",
            "318:\tlearn: 1.2358988\ttotal: 5m 25s\tremaining: 11m 35s\n",
            "319:\tlearn: 1.2349229\ttotal: 5m 26s\tremaining: 11m 34s\n",
            "320:\tlearn: 1.2338904\ttotal: 5m 27s\tremaining: 11m 33s\n",
            "321:\tlearn: 1.2329804\ttotal: 5m 28s\tremaining: 11m 32s\n",
            "322:\tlearn: 1.2321605\ttotal: 5m 29s\tremaining: 11m 31s\n",
            "323:\tlearn: 1.2317361\ttotal: 5m 30s\tremaining: 11m 29s\n",
            "324:\tlearn: 1.2312412\ttotal: 5m 31s\tremaining: 11m 28s\n",
            "325:\tlearn: 1.2307310\ttotal: 5m 32s\tremaining: 11m 27s\n",
            "326:\tlearn: 1.2302872\ttotal: 5m 33s\tremaining: 11m 26s\n",
            "327:\tlearn: 1.2293419\ttotal: 5m 34s\tremaining: 11m 25s\n",
            "328:\tlearn: 1.2289521\ttotal: 5m 35s\tremaining: 11m 24s\n",
            "329:\tlearn: 1.2280934\ttotal: 5m 36s\tremaining: 11m 23s\n",
            "330:\tlearn: 1.2275574\ttotal: 5m 37s\tremaining: 11m 21s\n",
            "331:\tlearn: 1.2262693\ttotal: 5m 38s\tremaining: 11m 21s\n",
            "332:\tlearn: 1.2256070\ttotal: 5m 39s\tremaining: 11m 19s\n",
            "333:\tlearn: 1.2249498\ttotal: 5m 40s\tremaining: 11m 18s\n",
            "334:\tlearn: 1.2244031\ttotal: 5m 41s\tremaining: 11m 17s\n",
            "335:\tlearn: 1.2232581\ttotal: 5m 42s\tremaining: 11m 16s\n",
            "336:\tlearn: 1.2226902\ttotal: 5m 43s\tremaining: 11m 15s\n",
            "337:\tlearn: 1.2218500\ttotal: 5m 44s\tremaining: 11m 14s\n",
            "338:\tlearn: 1.2210957\ttotal: 5m 45s\tremaining: 11m 13s\n",
            "339:\tlearn: 1.2198646\ttotal: 5m 46s\tremaining: 11m 12s\n",
            "340:\tlearn: 1.2194005\ttotal: 5m 47s\tremaining: 11m 10s\n",
            "341:\tlearn: 1.2184848\ttotal: 5m 48s\tremaining: 11m 10s\n",
            "342:\tlearn: 1.2176985\ttotal: 5m 49s\tremaining: 11m 8s\n",
            "343:\tlearn: 1.2174015\ttotal: 5m 50s\tremaining: 11m 7s\n",
            "344:\tlearn: 1.2168072\ttotal: 5m 51s\tremaining: 11m 6s\n",
            "345:\tlearn: 1.2162408\ttotal: 5m 52s\tremaining: 11m 5s\n",
            "346:\tlearn: 1.2155281\ttotal: 5m 53s\tremaining: 11m 4s\n",
            "347:\tlearn: 1.2151151\ttotal: 5m 53s\tremaining: 11m 3s\n",
            "348:\tlearn: 1.2144349\ttotal: 5m 54s\tremaining: 11m 2s\n",
            "349:\tlearn: 1.2139995\ttotal: 5m 55s\tremaining: 11m\n",
            "350:\tlearn: 1.2129907\ttotal: 5m 56s\tremaining: 10m 59s\n",
            "351:\tlearn: 1.2125025\ttotal: 5m 57s\tremaining: 10m 58s\n",
            "352:\tlearn: 1.2119941\ttotal: 5m 58s\tremaining: 10m 57s\n",
            "353:\tlearn: 1.2115690\ttotal: 5m 59s\tremaining: 10m 56s\n",
            "354:\tlearn: 1.2107145\ttotal: 6m\tremaining: 10m 55s\n",
            "355:\tlearn: 1.2101183\ttotal: 6m 1s\tremaining: 10m 54s\n",
            "356:\tlearn: 1.2096633\ttotal: 6m 2s\tremaining: 10m 53s\n",
            "357:\tlearn: 1.2091796\ttotal: 6m 3s\tremaining: 10m 51s\n",
            "358:\tlearn: 1.2087565\ttotal: 6m 4s\tremaining: 10m 50s\n",
            "359:\tlearn: 1.2082862\ttotal: 6m 5s\tremaining: 10m 49s\n",
            "360:\tlearn: 1.2072099\ttotal: 6m 6s\tremaining: 10m 48s\n",
            "361:\tlearn: 1.2063703\ttotal: 6m 7s\tremaining: 10m 47s\n",
            "362:\tlearn: 1.2053009\ttotal: 6m 8s\tremaining: 10m 46s\n",
            "363:\tlearn: 1.2040984\ttotal: 6m 9s\tremaining: 10m 45s\n",
            "364:\tlearn: 1.2036920\ttotal: 6m 10s\tremaining: 10m 44s\n",
            "365:\tlearn: 1.2033019\ttotal: 6m 11s\tremaining: 10m 43s\n",
            "366:\tlearn: 1.2029420\ttotal: 6m 12s\tremaining: 10m 42s\n",
            "367:\tlearn: 1.2022184\ttotal: 6m 13s\tremaining: 10m 40s\n",
            "368:\tlearn: 1.2019408\ttotal: 6m 14s\tremaining: 10m 39s\n",
            "369:\tlearn: 1.2011088\ttotal: 6m 15s\tremaining: 10m 38s\n",
            "370:\tlearn: 1.2005860\ttotal: 6m 16s\tremaining: 10m 37s\n",
            "371:\tlearn: 1.1992719\ttotal: 6m 17s\tremaining: 10m 36s\n",
            "372:\tlearn: 1.1988923\ttotal: 6m 18s\tremaining: 10m 35s\n",
            "373:\tlearn: 1.1978146\ttotal: 6m 19s\tremaining: 10m 34s\n",
            "374:\tlearn: 1.1974689\ttotal: 6m 20s\tremaining: 10m 33s\n",
            "375:\tlearn: 1.1970391\ttotal: 6m 21s\tremaining: 10m 32s\n",
            "376:\tlearn: 1.1959231\ttotal: 6m 22s\tremaining: 10m 31s\n",
            "377:\tlearn: 1.1956333\ttotal: 6m 22s\tremaining: 10m 30s\n",
            "378:\tlearn: 1.1943863\ttotal: 6m 24s\tremaining: 10m 29s\n",
            "379:\tlearn: 1.1935842\ttotal: 6m 24s\tremaining: 10m 28s\n",
            "380:\tlearn: 1.1928739\ttotal: 6m 25s\tremaining: 10m 26s\n",
            "381:\tlearn: 1.1922347\ttotal: 6m 26s\tremaining: 10m 26s\n",
            "382:\tlearn: 1.1914521\ttotal: 6m 27s\tremaining: 10m 25s\n",
            "383:\tlearn: 1.1911325\ttotal: 6m 28s\tremaining: 10m 23s\n",
            "384:\tlearn: 1.1907159\ttotal: 6m 29s\tremaining: 10m 22s\n",
            "385:\tlearn: 1.1902498\ttotal: 6m 30s\tremaining: 10m 21s\n",
            "386:\tlearn: 1.1897508\ttotal: 6m 31s\tremaining: 10m 20s\n",
            "387:\tlearn: 1.1893327\ttotal: 6m 32s\tremaining: 10m 19s\n",
            "388:\tlearn: 1.1886080\ttotal: 6m 33s\tremaining: 10m 18s\n",
            "389:\tlearn: 1.1881104\ttotal: 6m 34s\tremaining: 10m 17s\n",
            "390:\tlearn: 1.1877329\ttotal: 6m 35s\tremaining: 10m 15s\n",
            "391:\tlearn: 1.1873938\ttotal: 6m 36s\tremaining: 10m 14s\n",
            "392:\tlearn: 1.1870392\ttotal: 6m 37s\tremaining: 10m 13s\n",
            "393:\tlearn: 1.1865072\ttotal: 6m 38s\tremaining: 10m 12s\n",
            "394:\tlearn: 1.1859436\ttotal: 6m 39s\tremaining: 10m 11s\n",
            "395:\tlearn: 1.1855384\ttotal: 6m 40s\tremaining: 10m 10s\n",
            "396:\tlearn: 1.1851376\ttotal: 6m 41s\tremaining: 10m 9s\n",
            "397:\tlearn: 1.1848021\ttotal: 6m 42s\tremaining: 10m 8s\n",
            "398:\tlearn: 1.1841284\ttotal: 6m 43s\tremaining: 10m 7s\n",
            "399:\tlearn: 1.1836587\ttotal: 6m 43s\tremaining: 10m 5s\n",
            "400:\tlearn: 1.1833333\ttotal: 6m 44s\tremaining: 10m 4s\n",
            "401:\tlearn: 1.1829965\ttotal: 6m 45s\tremaining: 10m 3s\n",
            "402:\tlearn: 1.1825740\ttotal: 6m 46s\tremaining: 10m 2s\n",
            "403:\tlearn: 1.1820365\ttotal: 6m 47s\tremaining: 10m 1s\n",
            "404:\tlearn: 1.1817764\ttotal: 6m 48s\tremaining: 10m\n",
            "405:\tlearn: 1.1814540\ttotal: 6m 49s\tremaining: 9m 59s\n",
            "406:\tlearn: 1.1811154\ttotal: 6m 50s\tremaining: 9m 58s\n",
            "407:\tlearn: 1.1807595\ttotal: 6m 51s\tremaining: 9m 56s\n",
            "408:\tlearn: 1.1800864\ttotal: 6m 52s\tremaining: 9m 55s\n",
            "409:\tlearn: 1.1798377\ttotal: 6m 53s\tremaining: 9m 54s\n",
            "410:\tlearn: 1.1787689\ttotal: 6m 54s\tremaining: 9m 54s\n",
            "411:\tlearn: 1.1775469\ttotal: 6m 55s\tremaining: 9m 53s\n",
            "412:\tlearn: 1.1766661\ttotal: 6m 56s\tremaining: 9m 52s\n",
            "413:\tlearn: 1.1760394\ttotal: 6m 57s\tremaining: 9m 51s\n",
            "414:\tlearn: 1.1756639\ttotal: 6m 58s\tremaining: 9m 49s\n",
            "415:\tlearn: 1.1748261\ttotal: 6m 59s\tremaining: 9m 48s\n",
            "416:\tlearn: 1.1743947\ttotal: 7m\tremaining: 9m 47s\n",
            "417:\tlearn: 1.1733300\ttotal: 7m 1s\tremaining: 9m 47s\n",
            "418:\tlearn: 1.1718194\ttotal: 7m 2s\tremaining: 9m 46s\n",
            "419:\tlearn: 1.1714047\ttotal: 7m 3s\tremaining: 9m 45s\n",
            "420:\tlearn: 1.1710541\ttotal: 7m 4s\tremaining: 9m 44s\n",
            "421:\tlearn: 1.1704651\ttotal: 7m 5s\tremaining: 9m 43s\n",
            "422:\tlearn: 1.1698710\ttotal: 7m 6s\tremaining: 9m 42s\n",
            "423:\tlearn: 1.1695607\ttotal: 7m 7s\tremaining: 9m 40s\n",
            "424:\tlearn: 1.1692446\ttotal: 7m 8s\tremaining: 9m 39s\n",
            "425:\tlearn: 1.1684002\ttotal: 7m 9s\tremaining: 9m 38s\n",
            "426:\tlearn: 1.1678027\ttotal: 7m 10s\tremaining: 9m 37s\n",
            "427:\tlearn: 1.1675031\ttotal: 7m 11s\tremaining: 9m 36s\n",
            "428:\tlearn: 1.1671056\ttotal: 7m 12s\tremaining: 9m 35s\n",
            "429:\tlearn: 1.1664305\ttotal: 7m 13s\tremaining: 9m 34s\n",
            "430:\tlearn: 1.1659193\ttotal: 7m 14s\tremaining: 9m 33s\n",
            "431:\tlearn: 1.1656064\ttotal: 7m 15s\tremaining: 9m 32s\n",
            "432:\tlearn: 1.1651803\ttotal: 7m 16s\tremaining: 9m 31s\n",
            "433:\tlearn: 1.1648959\ttotal: 7m 17s\tremaining: 9m 30s\n",
            "434:\tlearn: 1.1640442\ttotal: 7m 18s\tremaining: 9m 29s\n",
            "435:\tlearn: 1.1636637\ttotal: 7m 19s\tremaining: 9m 27s\n",
            "436:\tlearn: 1.1630280\ttotal: 7m 20s\tremaining: 9m 26s\n",
            "437:\tlearn: 1.1626563\ttotal: 7m 20s\tremaining: 9m 25s\n",
            "438:\tlearn: 1.1623969\ttotal: 7m 21s\tremaining: 9m 24s\n",
            "439:\tlearn: 1.1617518\ttotal: 7m 22s\tremaining: 9m 23s\n",
            "440:\tlearn: 1.1614593\ttotal: 7m 23s\tremaining: 9m 22s\n",
            "441:\tlearn: 1.1609382\ttotal: 7m 24s\tremaining: 9m 21s\n",
            "442:\tlearn: 1.1600981\ttotal: 7m 25s\tremaining: 9m 20s\n",
            "443:\tlearn: 1.1595323\ttotal: 7m 26s\tremaining: 9m 19s\n",
            "444:\tlearn: 1.1591653\ttotal: 7m 27s\tremaining: 9m 18s\n",
            "445:\tlearn: 1.1588964\ttotal: 7m 28s\tremaining: 9m 17s\n",
            "446:\tlearn: 1.1583787\ttotal: 7m 29s\tremaining: 9m 16s\n",
            "447:\tlearn: 1.1579340\ttotal: 7m 30s\tremaining: 9m 15s\n",
            "448:\tlearn: 1.1576774\ttotal: 7m 31s\tremaining: 9m 13s\n",
            "449:\tlearn: 1.1572066\ttotal: 7m 32s\tremaining: 9m 12s\n",
            "450:\tlearn: 1.1569333\ttotal: 7m 33s\tremaining: 9m 11s\n",
            "451:\tlearn: 1.1561382\ttotal: 7m 34s\tremaining: 9m 10s\n",
            "452:\tlearn: 1.1558913\ttotal: 7m 35s\tremaining: 9m 9s\n",
            "453:\tlearn: 1.1556260\ttotal: 7m 36s\tremaining: 9m 8s\n",
            "454:\tlearn: 1.1552544\ttotal: 7m 37s\tremaining: 9m 7s\n",
            "455:\tlearn: 1.1549149\ttotal: 7m 37s\tremaining: 9m 6s\n",
            "456:\tlearn: 1.1546363\ttotal: 7m 38s\tremaining: 9m 5s\n",
            "457:\tlearn: 1.1542815\ttotal: 7m 39s\tremaining: 9m 4s\n",
            "458:\tlearn: 1.1538181\ttotal: 7m 40s\tremaining: 9m 3s\n",
            "459:\tlearn: 1.1536039\ttotal: 7m 41s\tremaining: 9m 1s\n",
            "460:\tlearn: 1.1531833\ttotal: 7m 42s\tremaining: 9m\n",
            "461:\tlearn: 1.1528858\ttotal: 7m 43s\tremaining: 8m 59s\n",
            "462:\tlearn: 1.1526214\ttotal: 7m 44s\tremaining: 8m 58s\n",
            "463:\tlearn: 1.1523563\ttotal: 7m 45s\tremaining: 8m 57s\n",
            "464:\tlearn: 1.1520551\ttotal: 7m 46s\tremaining: 8m 56s\n",
            "465:\tlearn: 1.1515348\ttotal: 7m 47s\tremaining: 8m 55s\n",
            "466:\tlearn: 1.1513181\ttotal: 7m 48s\tremaining: 8m 54s\n",
            "467:\tlearn: 1.1509945\ttotal: 7m 49s\tremaining: 8m 53s\n",
            "468:\tlearn: 1.1503224\ttotal: 7m 50s\tremaining: 8m 52s\n",
            "469:\tlearn: 1.1499820\ttotal: 7m 51s\tremaining: 8m 51s\n",
            "470:\tlearn: 1.1495572\ttotal: 7m 52s\tremaining: 8m 50s\n",
            "471:\tlearn: 1.1493571\ttotal: 7m 52s\tremaining: 8m 49s\n",
            "472:\tlearn: 1.1480433\ttotal: 7m 54s\tremaining: 8m 48s\n",
            "473:\tlearn: 1.1474101\ttotal: 7m 55s\tremaining: 8m 47s\n",
            "474:\tlearn: 1.1471718\ttotal: 7m 55s\tremaining: 8m 46s\n",
            "475:\tlearn: 1.1468305\ttotal: 7m 56s\tremaining: 8m 44s\n",
            "476:\tlearn: 1.1456376\ttotal: 7m 57s\tremaining: 8m 44s\n",
            "477:\tlearn: 1.1453599\ttotal: 7m 58s\tremaining: 8m 42s\n",
            "478:\tlearn: 1.1450396\ttotal: 7m 59s\tremaining: 8m 41s\n",
            "479:\tlearn: 1.1448478\ttotal: 8m\tremaining: 8m 40s\n",
            "480:\tlearn: 1.1446520\ttotal: 8m 1s\tremaining: 8m 39s\n",
            "481:\tlearn: 1.1443792\ttotal: 8m 2s\tremaining: 8m 38s\n",
            "482:\tlearn: 1.1440965\ttotal: 8m 3s\tremaining: 8m 37s\n",
            "483:\tlearn: 1.1437634\ttotal: 8m 4s\tremaining: 8m 36s\n",
            "484:\tlearn: 1.1432982\ttotal: 8m 5s\tremaining: 8m 35s\n",
            "485:\tlearn: 1.1430121\ttotal: 8m 6s\tremaining: 8m 34s\n",
            "486:\tlearn: 1.1428302\ttotal: 8m 7s\tremaining: 8m 33s\n",
            "487:\tlearn: 1.1423177\ttotal: 8m 8s\tremaining: 8m 32s\n",
            "488:\tlearn: 1.1419420\ttotal: 8m 9s\tremaining: 8m 31s\n",
            "489:\tlearn: 1.1417322\ttotal: 8m 10s\tremaining: 8m 30s\n",
            "490:\tlearn: 1.1408618\ttotal: 8m 11s\tremaining: 8m 29s\n",
            "491:\tlearn: 1.1406939\ttotal: 8m 11s\tremaining: 8m 27s\n",
            "492:\tlearn: 1.1405208\ttotal: 8m 12s\tremaining: 8m 26s\n",
            "493:\tlearn: 1.1401119\ttotal: 8m 13s\tremaining: 8m 25s\n",
            "494:\tlearn: 1.1397741\ttotal: 8m 14s\tremaining: 8m 24s\n",
            "495:\tlearn: 1.1393778\ttotal: 8m 15s\tremaining: 8m 23s\n",
            "496:\tlearn: 1.1391073\ttotal: 8m 16s\tremaining: 8m 22s\n",
            "497:\tlearn: 1.1388405\ttotal: 8m 17s\tremaining: 8m 21s\n",
            "498:\tlearn: 1.1385411\ttotal: 8m 18s\tremaining: 8m 20s\n",
            "499:\tlearn: 1.1383754\ttotal: 8m 19s\tremaining: 8m 19s\n",
            "500:\tlearn: 1.1376638\ttotal: 8m 20s\tremaining: 8m 18s\n",
            "501:\tlearn: 1.1374031\ttotal: 8m 21s\tremaining: 8m 17s\n",
            "502:\tlearn: 1.1372227\ttotal: 8m 22s\tremaining: 8m 16s\n",
            "503:\tlearn: 1.1364169\ttotal: 8m 23s\tremaining: 8m 15s\n",
            "504:\tlearn: 1.1360544\ttotal: 8m 24s\tremaining: 8m 14s\n",
            "505:\tlearn: 1.1357717\ttotal: 8m 25s\tremaining: 8m 13s\n",
            "506:\tlearn: 1.1353252\ttotal: 8m 26s\tremaining: 8m 12s\n",
            "507:\tlearn: 1.1351659\ttotal: 8m 27s\tremaining: 8m 11s\n",
            "508:\tlearn: 1.1343825\ttotal: 8m 28s\tremaining: 8m 10s\n",
            "509:\tlearn: 1.1340733\ttotal: 8m 29s\tremaining: 8m 9s\n",
            "510:\tlearn: 1.1337981\ttotal: 8m 30s\tremaining: 8m 8s\n",
            "511:\tlearn: 1.1334457\ttotal: 8m 31s\tremaining: 8m 7s\n",
            "512:\tlearn: 1.1331537\ttotal: 8m 31s\tremaining: 8m 6s\n",
            "513:\tlearn: 1.1327106\ttotal: 8m 32s\tremaining: 8m 4s\n",
            "514:\tlearn: 1.1321689\ttotal: 8m 33s\tremaining: 8m 4s\n",
            "515:\tlearn: 1.1314166\ttotal: 8m 34s\tremaining: 8m 3s\n",
            "516:\tlearn: 1.1309990\ttotal: 8m 35s\tremaining: 8m 2s\n",
            "517:\tlearn: 1.1306366\ttotal: 8m 36s\tremaining: 8m\n",
            "518:\tlearn: 1.1303224\ttotal: 8m 37s\tremaining: 7m 59s\n",
            "519:\tlearn: 1.1301244\ttotal: 8m 38s\tremaining: 7m 58s\n",
            "520:\tlearn: 1.1299214\ttotal: 8m 39s\tremaining: 7m 57s\n",
            "521:\tlearn: 1.1297075\ttotal: 8m 40s\tremaining: 7m 56s\n",
            "522:\tlearn: 1.1294759\ttotal: 8m 41s\tremaining: 7m 55s\n",
            "523:\tlearn: 1.1293189\ttotal: 8m 42s\tremaining: 7m 54s\n",
            "524:\tlearn: 1.1289812\ttotal: 8m 43s\tremaining: 7m 53s\n",
            "525:\tlearn: 1.1286348\ttotal: 8m 44s\tremaining: 7m 52s\n",
            "526:\tlearn: 1.1284622\ttotal: 8m 45s\tremaining: 7m 51s\n",
            "527:\tlearn: 1.1282828\ttotal: 8m 46s\tremaining: 7m 50s\n",
            "528:\tlearn: 1.1280638\ttotal: 8m 47s\tremaining: 7m 49s\n",
            "529:\tlearn: 1.1269556\ttotal: 8m 48s\tremaining: 7m 48s\n",
            "530:\tlearn: 1.1267266\ttotal: 8m 49s\tremaining: 7m 47s\n",
            "531:\tlearn: 1.1263656\ttotal: 8m 49s\tremaining: 7m 46s\n",
            "532:\tlearn: 1.1261078\ttotal: 8m 50s\tremaining: 7m 45s\n",
            "533:\tlearn: 1.1258989\ttotal: 8m 51s\tremaining: 7m 44s\n",
            "534:\tlearn: 1.1256965\ttotal: 8m 52s\tremaining: 7m 43s\n",
            "535:\tlearn: 1.1253401\ttotal: 8m 53s\tremaining: 7m 42s\n",
            "536:\tlearn: 1.1250561\ttotal: 8m 54s\tremaining: 7m 40s\n",
            "537:\tlearn: 1.1246086\ttotal: 8m 55s\tremaining: 7m 39s\n",
            "538:\tlearn: 1.1243193\ttotal: 8m 56s\tremaining: 7m 38s\n",
            "539:\tlearn: 1.1241751\ttotal: 8m 57s\tremaining: 7m 37s\n",
            "540:\tlearn: 1.1236742\ttotal: 8m 58s\tremaining: 7m 36s\n",
            "541:\tlearn: 1.1234650\ttotal: 8m 59s\tremaining: 7m 35s\n",
            "542:\tlearn: 1.1231500\ttotal: 9m\tremaining: 7m 34s\n",
            "543:\tlearn: 1.1228993\ttotal: 9m 1s\tremaining: 7m 33s\n",
            "544:\tlearn: 1.1226815\ttotal: 9m 2s\tremaining: 7m 32s\n",
            "545:\tlearn: 1.1223186\ttotal: 9m 3s\tremaining: 7m 31s\n",
            "546:\tlearn: 1.1219462\ttotal: 9m 3s\tremaining: 7m 30s\n",
            "547:\tlearn: 1.1217673\ttotal: 9m 4s\tremaining: 7m 29s\n",
            "548:\tlearn: 1.1215429\ttotal: 9m 5s\tremaining: 7m 28s\n",
            "549:\tlearn: 1.1213575\ttotal: 9m 6s\tremaining: 7m 27s\n",
            "550:\tlearn: 1.1211077\ttotal: 9m 7s\tremaining: 7m 26s\n",
            "551:\tlearn: 1.1208507\ttotal: 9m 8s\tremaining: 7m 25s\n",
            "552:\tlearn: 1.1205924\ttotal: 9m 9s\tremaining: 7m 24s\n",
            "553:\tlearn: 1.1203959\ttotal: 9m 10s\tremaining: 7m 23s\n",
            "554:\tlearn: 1.1192698\ttotal: 9m 11s\tremaining: 7m 22s\n",
            "555:\tlearn: 1.1190679\ttotal: 9m 12s\tremaining: 7m 21s\n",
            "556:\tlearn: 1.1181265\ttotal: 9m 13s\tremaining: 7m 20s\n",
            "557:\tlearn: 1.1179842\ttotal: 9m 14s\tremaining: 7m 19s\n",
            "558:\tlearn: 1.1176262\ttotal: 9m 15s\tremaining: 7m 18s\n",
            "559:\tlearn: 1.1173649\ttotal: 9m 16s\tremaining: 7m 17s\n",
            "560:\tlearn: 1.1171691\ttotal: 9m 17s\tremaining: 7m 16s\n",
            "561:\tlearn: 1.1170203\ttotal: 9m 18s\tremaining: 7m 14s\n",
            "562:\tlearn: 1.1167380\ttotal: 9m 19s\tremaining: 7m 13s\n",
            "563:\tlearn: 1.1165132\ttotal: 9m 19s\tremaining: 7m 12s\n",
            "564:\tlearn: 1.1163520\ttotal: 9m 20s\tremaining: 7m 11s\n",
            "565:\tlearn: 1.1162614\ttotal: 9m 21s\tremaining: 7m 10s\n",
            "566:\tlearn: 1.1158943\ttotal: 9m 22s\tremaining: 7m 9s\n",
            "567:\tlearn: 1.1154199\ttotal: 9m 23s\tremaining: 7m 8s\n",
            "568:\tlearn: 1.1149705\ttotal: 9m 24s\tremaining: 7m 7s\n",
            "569:\tlearn: 1.1145411\ttotal: 9m 25s\tremaining: 7m 6s\n",
            "570:\tlearn: 1.1141192\ttotal: 9m 26s\tremaining: 7m 5s\n",
            "571:\tlearn: 1.1138503\ttotal: 9m 27s\tremaining: 7m 4s\n",
            "572:\tlearn: 1.1136739\ttotal: 9m 28s\tremaining: 7m 3s\n",
            "573:\tlearn: 1.1130424\ttotal: 9m 29s\tremaining: 7m 2s\n",
            "574:\tlearn: 1.1127335\ttotal: 9m 30s\tremaining: 7m 1s\n",
            "575:\tlearn: 1.1124550\ttotal: 9m 31s\tremaining: 7m\n",
            "576:\tlearn: 1.1122777\ttotal: 9m 32s\tremaining: 6m 59s\n",
            "577:\tlearn: 1.1120887\ttotal: 9m 33s\tremaining: 6m 58s\n",
            "578:\tlearn: 1.1118177\ttotal: 9m 34s\tremaining: 6m 57s\n",
            "579:\tlearn: 1.1116543\ttotal: 9m 35s\tremaining: 6m 56s\n",
            "580:\tlearn: 1.1115355\ttotal: 9m 36s\tremaining: 6m 55s\n",
            "581:\tlearn: 1.1112830\ttotal: 9m 37s\tremaining: 6m 54s\n",
            "582:\tlearn: 1.1109688\ttotal: 9m 37s\tremaining: 6m 53s\n",
            "583:\tlearn: 1.1105199\ttotal: 9m 38s\tremaining: 6m 52s\n",
            "584:\tlearn: 1.1103105\ttotal: 9m 39s\tremaining: 6m 51s\n",
            "585:\tlearn: 1.1100376\ttotal: 9m 40s\tremaining: 6m 50s\n",
            "586:\tlearn: 1.1096154\ttotal: 9m 41s\tremaining: 6m 49s\n",
            "587:\tlearn: 1.1094186\ttotal: 9m 42s\tremaining: 6m 48s\n",
            "588:\tlearn: 1.1091869\ttotal: 9m 43s\tremaining: 6m 47s\n",
            "589:\tlearn: 1.1088444\ttotal: 9m 44s\tremaining: 6m 46s\n",
            "590:\tlearn: 1.1085200\ttotal: 9m 45s\tremaining: 6m 45s\n",
            "591:\tlearn: 1.1083322\ttotal: 9m 46s\tremaining: 6m 44s\n",
            "592:\tlearn: 1.1076953\ttotal: 9m 47s\tremaining: 6m 43s\n",
            "593:\tlearn: 1.1076049\ttotal: 9m 48s\tremaining: 6m 42s\n",
            "594:\tlearn: 1.1073483\ttotal: 9m 49s\tremaining: 6m 41s\n",
            "595:\tlearn: 1.1070390\ttotal: 9m 50s\tremaining: 6m 40s\n",
            "596:\tlearn: 1.1067975\ttotal: 9m 51s\tremaining: 6m 39s\n",
            "597:\tlearn: 1.1066533\ttotal: 9m 52s\tremaining: 6m 38s\n",
            "598:\tlearn: 1.1063256\ttotal: 9m 53s\tremaining: 6m 37s\n",
            "599:\tlearn: 1.1059906\ttotal: 9m 53s\tremaining: 6m 35s\n",
            "600:\tlearn: 1.1058300\ttotal: 9m 54s\tremaining: 6m 34s\n",
            "601:\tlearn: 1.1056678\ttotal: 9m 55s\tremaining: 6m 33s\n",
            "602:\tlearn: 1.1054762\ttotal: 9m 56s\tremaining: 6m 32s\n",
            "603:\tlearn: 1.1050955\ttotal: 9m 57s\tremaining: 6m 31s\n",
            "604:\tlearn: 1.1048970\ttotal: 9m 58s\tremaining: 6m 30s\n",
            "605:\tlearn: 1.1045410\ttotal: 9m 59s\tremaining: 6m 29s\n",
            "606:\tlearn: 1.1043052\ttotal: 10m\tremaining: 6m 28s\n",
            "607:\tlearn: 1.1040342\ttotal: 10m 1s\tremaining: 6m 27s\n",
            "608:\tlearn: 1.1036188\ttotal: 10m 2s\tremaining: 6m 26s\n",
            "609:\tlearn: 1.1031313\ttotal: 10m 3s\tremaining: 6m 25s\n",
            "610:\tlearn: 1.1029563\ttotal: 10m 4s\tremaining: 6m 24s\n",
            "611:\tlearn: 1.1027564\ttotal: 10m 5s\tremaining: 6m 23s\n",
            "612:\tlearn: 1.1024804\ttotal: 10m 6s\tremaining: 6m 22s\n",
            "613:\tlearn: 1.1023769\ttotal: 10m 7s\tremaining: 6m 21s\n",
            "614:\tlearn: 1.1018809\ttotal: 10m 7s\tremaining: 6m 20s\n",
            "615:\tlearn: 1.1017410\ttotal: 10m 8s\tremaining: 6m 19s\n",
            "616:\tlearn: 1.1015387\ttotal: 10m 9s\tremaining: 6m 18s\n",
            "617:\tlearn: 1.1013318\ttotal: 10m 10s\tremaining: 6m 17s\n",
            "618:\tlearn: 1.1006615\ttotal: 10m 11s\tremaining: 6m 16s\n",
            "619:\tlearn: 1.1002482\ttotal: 10m 12s\tremaining: 6m 15s\n",
            "620:\tlearn: 1.1000178\ttotal: 10m 13s\tremaining: 6m 14s\n",
            "621:\tlearn: 1.0998735\ttotal: 10m 14s\tremaining: 6m 13s\n",
            "622:\tlearn: 1.0991039\ttotal: 10m 15s\tremaining: 6m 12s\n",
            "623:\tlearn: 1.0986721\ttotal: 10m 16s\tremaining: 6m 11s\n",
            "624:\tlearn: 1.0982915\ttotal: 10m 17s\tremaining: 6m 10s\n",
            "625:\tlearn: 1.0981577\ttotal: 10m 18s\tremaining: 6m 9s\n",
            "626:\tlearn: 1.0979601\ttotal: 10m 19s\tremaining: 6m 8s\n",
            "627:\tlearn: 1.0976923\ttotal: 10m 20s\tremaining: 6m 7s\n",
            "628:\tlearn: 1.0975691\ttotal: 10m 21s\tremaining: 6m 6s\n",
            "629:\tlearn: 1.0973932\ttotal: 10m 22s\tremaining: 6m 5s\n",
            "630:\tlearn: 1.0971792\ttotal: 10m 23s\tremaining: 6m 4s\n",
            "631:\tlearn: 1.0970501\ttotal: 10m 23s\tremaining: 6m 3s\n",
            "632:\tlearn: 1.0966723\ttotal: 10m 24s\tremaining: 6m 2s\n",
            "633:\tlearn: 1.0964824\ttotal: 10m 25s\tremaining: 6m 1s\n",
            "634:\tlearn: 1.0962528\ttotal: 10m 26s\tremaining: 6m\n",
            "635:\tlearn: 1.0958498\ttotal: 10m 27s\tremaining: 5m 59s\n",
            "636:\tlearn: 1.0955798\ttotal: 10m 28s\tremaining: 5m 58s\n",
            "637:\tlearn: 1.0954030\ttotal: 10m 29s\tremaining: 5m 57s\n",
            "638:\tlearn: 1.0951020\ttotal: 10m 30s\tremaining: 5m 56s\n",
            "639:\tlearn: 1.0949949\ttotal: 10m 31s\tremaining: 5m 55s\n",
            "640:\tlearn: 1.0947155\ttotal: 10m 32s\tremaining: 5m 54s\n",
            "641:\tlearn: 1.0944281\ttotal: 10m 33s\tremaining: 5m 53s\n",
            "642:\tlearn: 1.0943087\ttotal: 10m 34s\tremaining: 5m 52s\n",
            "643:\tlearn: 1.0941337\ttotal: 10m 35s\tremaining: 5m 51s\n",
            "644:\tlearn: 1.0938405\ttotal: 10m 36s\tremaining: 5m 50s\n",
            "645:\tlearn: 1.0937693\ttotal: 10m 37s\tremaining: 5m 49s\n",
            "646:\tlearn: 1.0936059\ttotal: 10m 38s\tremaining: 5m 48s\n",
            "647:\tlearn: 1.0934632\ttotal: 10m 39s\tremaining: 5m 47s\n",
            "648:\tlearn: 1.0932058\ttotal: 10m 39s\tremaining: 5m 46s\n",
            "649:\tlearn: 1.0930636\ttotal: 10m 40s\tremaining: 5m 45s\n",
            "650:\tlearn: 1.0928284\ttotal: 10m 41s\tremaining: 5m 44s\n",
            "651:\tlearn: 1.0925217\ttotal: 10m 42s\tremaining: 5m 43s\n",
            "652:\tlearn: 1.0923493\ttotal: 10m 43s\tremaining: 5m 42s\n",
            "653:\tlearn: 1.0921085\ttotal: 10m 44s\tremaining: 5m 41s\n",
            "654:\tlearn: 1.0916506\ttotal: 10m 45s\tremaining: 5m 39s\n",
            "655:\tlearn: 1.0913317\ttotal: 10m 46s\tremaining: 5m 38s\n",
            "656:\tlearn: 1.0911564\ttotal: 10m 47s\tremaining: 5m 37s\n",
            "657:\tlearn: 1.0908668\ttotal: 10m 48s\tremaining: 5m 36s\n",
            "658:\tlearn: 1.0906998\ttotal: 10m 49s\tremaining: 5m 35s\n",
            "659:\tlearn: 1.0904420\ttotal: 10m 50s\tremaining: 5m 34s\n",
            "660:\tlearn: 1.0903488\ttotal: 10m 51s\tremaining: 5m 33s\n",
            "661:\tlearn: 1.0901483\ttotal: 10m 51s\tremaining: 5m 32s\n",
            "662:\tlearn: 1.0899768\ttotal: 10m 52s\tremaining: 5m 31s\n",
            "663:\tlearn: 1.0897847\ttotal: 10m 53s\tremaining: 5m 30s\n",
            "664:\tlearn: 1.0895028\ttotal: 10m 54s\tremaining: 5m 29s\n",
            "665:\tlearn: 1.0893121\ttotal: 10m 55s\tremaining: 5m 28s\n",
            "666:\tlearn: 1.0892225\ttotal: 10m 56s\tremaining: 5m 27s\n",
            "667:\tlearn: 1.0889844\ttotal: 10m 57s\tremaining: 5m 26s\n",
            "668:\tlearn: 1.0888416\ttotal: 10m 58s\tremaining: 5m 25s\n",
            "669:\tlearn: 1.0886754\ttotal: 10m 59s\tremaining: 5m 24s\n",
            "670:\tlearn: 1.0883626\ttotal: 11m\tremaining: 5m 23s\n",
            "671:\tlearn: 1.0882344\ttotal: 11m 1s\tremaining: 5m 22s\n",
            "672:\tlearn: 1.0879804\ttotal: 11m 2s\tremaining: 5m 21s\n",
            "673:\tlearn: 1.0872241\ttotal: 11m 3s\tremaining: 5m 20s\n",
            "674:\tlearn: 1.0867758\ttotal: 11m 4s\tremaining: 5m 19s\n",
            "675:\tlearn: 1.0865270\ttotal: 11m 5s\tremaining: 5m 18s\n",
            "676:\tlearn: 1.0858720\ttotal: 11m 6s\tremaining: 5m 17s\n",
            "677:\tlearn: 1.0857076\ttotal: 11m 7s\tremaining: 5m 16s\n",
            "678:\tlearn: 1.0855367\ttotal: 11m 8s\tremaining: 5m 15s\n",
            "679:\tlearn: 1.0846817\ttotal: 11m 9s\tremaining: 5m 14s\n",
            "680:\tlearn: 1.0841128\ttotal: 11m 10s\tremaining: 5m 13s\n",
            "681:\tlearn: 1.0839024\ttotal: 11m 11s\tremaining: 5m 12s\n",
            "682:\tlearn: 1.0833690\ttotal: 11m 11s\tremaining: 5m 11s\n",
            "683:\tlearn: 1.0831393\ttotal: 11m 12s\tremaining: 5m 10s\n",
            "684:\tlearn: 1.0829922\ttotal: 11m 13s\tremaining: 5m 9s\n",
            "685:\tlearn: 1.0828384\ttotal: 11m 14s\tremaining: 5m 8s\n",
            "686:\tlearn: 1.0825785\ttotal: 11m 15s\tremaining: 5m 7s\n",
            "687:\tlearn: 1.0824451\ttotal: 11m 16s\tremaining: 5m 6s\n",
            "688:\tlearn: 1.0821083\ttotal: 11m 17s\tremaining: 5m 5s\n",
            "689:\tlearn: 1.0818288\ttotal: 11m 18s\tremaining: 5m 4s\n",
            "690:\tlearn: 1.0817102\ttotal: 11m 19s\tremaining: 5m 3s\n",
            "691:\tlearn: 1.0814980\ttotal: 11m 20s\tremaining: 5m 2s\n",
            "692:\tlearn: 1.0810500\ttotal: 11m 21s\tremaining: 5m 1s\n",
            "693:\tlearn: 1.0808309\ttotal: 11m 22s\tremaining: 5m\n",
            "694:\tlearn: 1.0807290\ttotal: 11m 23s\tremaining: 4m 59s\n",
            "695:\tlearn: 1.0806157\ttotal: 11m 24s\tremaining: 4m 58s\n",
            "696:\tlearn: 1.0802422\ttotal: 11m 25s\tremaining: 4m 57s\n",
            "697:\tlearn: 1.0799506\ttotal: 11m 26s\tremaining: 4m 56s\n",
            "698:\tlearn: 1.0797084\ttotal: 11m 26s\tremaining: 4m 55s\n",
            "699:\tlearn: 1.0793503\ttotal: 11m 27s\tremaining: 4m 54s\n",
            "700:\tlearn: 1.0792622\ttotal: 11m 28s\tremaining: 4m 53s\n",
            "701:\tlearn: 1.0790354\ttotal: 11m 29s\tremaining: 4m 52s\n",
            "702:\tlearn: 1.0788638\ttotal: 11m 30s\tremaining: 4m 51s\n",
            "703:\tlearn: 1.0787549\ttotal: 11m 31s\tremaining: 4m 50s\n",
            "704:\tlearn: 1.0784409\ttotal: 11m 32s\tremaining: 4m 49s\n",
            "705:\tlearn: 1.0782057\ttotal: 11m 33s\tremaining: 4m 48s\n",
            "706:\tlearn: 1.0779302\ttotal: 11m 34s\tremaining: 4m 47s\n",
            "707:\tlearn: 1.0773511\ttotal: 11m 35s\tremaining: 4m 46s\n",
            "708:\tlearn: 1.0771133\ttotal: 11m 36s\tremaining: 4m 45s\n",
            "709:\tlearn: 1.0769689\ttotal: 11m 37s\tremaining: 4m 44s\n",
            "710:\tlearn: 1.0768345\ttotal: 11m 38s\tremaining: 4m 43s\n",
            "711:\tlearn: 1.0766248\ttotal: 11m 39s\tremaining: 4m 42s\n",
            "712:\tlearn: 1.0759296\ttotal: 11m 40s\tremaining: 4m 41s\n",
            "713:\tlearn: 1.0758265\ttotal: 11m 41s\tremaining: 4m 40s\n",
            "714:\tlearn: 1.0757561\ttotal: 11m 41s\tremaining: 4m 39s\n",
            "715:\tlearn: 1.0756593\ttotal: 11m 42s\tremaining: 4m 38s\n",
            "716:\tlearn: 1.0754239\ttotal: 11m 43s\tremaining: 4m 37s\n",
            "717:\tlearn: 1.0753682\ttotal: 11m 44s\tremaining: 4m 36s\n",
            "718:\tlearn: 1.0752522\ttotal: 11m 45s\tremaining: 4m 35s\n",
            "719:\tlearn: 1.0738772\ttotal: 11m 46s\tremaining: 4m 34s\n",
            "720:\tlearn: 1.0736315\ttotal: 11m 47s\tremaining: 4m 33s\n",
            "721:\tlearn: 1.0734951\ttotal: 11m 48s\tremaining: 4m 32s\n",
            "722:\tlearn: 1.0733758\ttotal: 11m 49s\tremaining: 4m 31s\n",
            "723:\tlearn: 1.0731329\ttotal: 11m 50s\tremaining: 4m 30s\n",
            "724:\tlearn: 1.0727890\ttotal: 11m 51s\tremaining: 4m 29s\n",
            "725:\tlearn: 1.0726715\ttotal: 11m 52s\tremaining: 4m 28s\n",
            "726:\tlearn: 1.0724782\ttotal: 11m 53s\tremaining: 4m 27s\n",
            "727:\tlearn: 1.0723544\ttotal: 11m 54s\tremaining: 4m 26s\n",
            "728:\tlearn: 1.0722222\ttotal: 11m 55s\tremaining: 4m 25s\n",
            "729:\tlearn: 1.0721169\ttotal: 11m 56s\tremaining: 4m 24s\n",
            "730:\tlearn: 1.0715226\ttotal: 11m 57s\tremaining: 4m 23s\n",
            "731:\tlearn: 1.0713372\ttotal: 11m 58s\tremaining: 4m 22s\n",
            "732:\tlearn: 1.0711037\ttotal: 11m 58s\tremaining: 4m 21s\n",
            "733:\tlearn: 1.0709942\ttotal: 11m 59s\tremaining: 4m 20s\n",
            "734:\tlearn: 1.0704774\ttotal: 12m\tremaining: 4m 19s\n",
            "735:\tlearn: 1.0702996\ttotal: 12m 1s\tremaining: 4m 18s\n",
            "736:\tlearn: 1.0696164\ttotal: 12m 2s\tremaining: 4m 17s\n",
            "737:\tlearn: 1.0694675\ttotal: 12m 3s\tremaining: 4m 16s\n",
            "738:\tlearn: 1.0693434\ttotal: 12m 4s\tremaining: 4m 15s\n",
            "739:\tlearn: 1.0692346\ttotal: 12m 5s\tremaining: 4m 14s\n",
            "740:\tlearn: 1.0689455\ttotal: 12m 6s\tremaining: 4m 13s\n",
            "741:\tlearn: 1.0686294\ttotal: 12m 7s\tremaining: 4m 12s\n",
            "742:\tlearn: 1.0683346\ttotal: 12m 8s\tremaining: 4m 11s\n",
            "743:\tlearn: 1.0682447\ttotal: 12m 9s\tremaining: 4m 10s\n",
            "744:\tlearn: 1.0680766\ttotal: 12m 10s\tremaining: 4m 9s\n",
            "745:\tlearn: 1.0679620\ttotal: 12m 11s\tremaining: 4m 8s\n",
            "746:\tlearn: 1.0676689\ttotal: 12m 12s\tremaining: 4m 7s\n",
            "747:\tlearn: 1.0675248\ttotal: 12m 13s\tremaining: 4m 6s\n",
            "748:\tlearn: 1.0672052\ttotal: 12m 14s\tremaining: 4m 5s\n",
            "749:\tlearn: 1.0670610\ttotal: 12m 14s\tremaining: 4m 5s\n",
            "750:\tlearn: 1.0667545\ttotal: 12m 15s\tremaining: 4m 4s\n",
            "751:\tlearn: 1.0665264\ttotal: 12m 16s\tremaining: 4m 3s\n",
            "752:\tlearn: 1.0663592\ttotal: 12m 17s\tremaining: 4m 2s\n",
            "753:\tlearn: 1.0659192\ttotal: 12m 18s\tremaining: 4m 1s\n",
            "754:\tlearn: 1.0657743\ttotal: 12m 19s\tremaining: 4m\n",
            "755:\tlearn: 1.0655918\ttotal: 12m 20s\tremaining: 3m 59s\n",
            "756:\tlearn: 1.0652071\ttotal: 12m 21s\tremaining: 3m 58s\n",
            "757:\tlearn: 1.0651378\ttotal: 12m 22s\tremaining: 3m 57s\n",
            "758:\tlearn: 1.0648007\ttotal: 12m 23s\tremaining: 3m 56s\n",
            "759:\tlearn: 1.0646450\ttotal: 12m 24s\tremaining: 3m 55s\n",
            "760:\tlearn: 1.0642657\ttotal: 12m 25s\tremaining: 3m 54s\n",
            "761:\tlearn: 1.0633876\ttotal: 12m 26s\tremaining: 3m 53s\n",
            "762:\tlearn: 1.0630877\ttotal: 12m 27s\tremaining: 3m 52s\n",
            "763:\tlearn: 1.0629106\ttotal: 12m 28s\tremaining: 3m 51s\n",
            "764:\tlearn: 1.0626549\ttotal: 12m 29s\tremaining: 3m 50s\n",
            "765:\tlearn: 1.0625315\ttotal: 12m 30s\tremaining: 3m 49s\n",
            "766:\tlearn: 1.0623197\ttotal: 12m 31s\tremaining: 3m 48s\n",
            "767:\tlearn: 1.0617153\ttotal: 12m 32s\tremaining: 3m 47s\n",
            "768:\tlearn: 1.0615391\ttotal: 12m 33s\tremaining: 3m 46s\n",
            "769:\tlearn: 1.0609543\ttotal: 12m 34s\tremaining: 3m 45s\n",
            "770:\tlearn: 1.0608176\ttotal: 12m 35s\tremaining: 3m 44s\n",
            "771:\tlearn: 1.0604835\ttotal: 12m 36s\tremaining: 3m 43s\n",
            "772:\tlearn: 1.0603116\ttotal: 12m 36s\tremaining: 3m 42s\n",
            "773:\tlearn: 1.0600320\ttotal: 12m 37s\tremaining: 3m 41s\n",
            "774:\tlearn: 1.0599013\ttotal: 12m 38s\tremaining: 3m 40s\n",
            "775:\tlearn: 1.0594088\ttotal: 12m 39s\tremaining: 3m 39s\n",
            "776:\tlearn: 1.0593043\ttotal: 12m 40s\tremaining: 3m 38s\n",
            "777:\tlearn: 1.0592371\ttotal: 12m 41s\tremaining: 3m 37s\n",
            "778:\tlearn: 1.0589712\ttotal: 12m 42s\tremaining: 3m 36s\n",
            "779:\tlearn: 1.0587822\ttotal: 12m 43s\tremaining: 3m 35s\n",
            "780:\tlearn: 1.0578040\ttotal: 12m 44s\tremaining: 3m 34s\n",
            "781:\tlearn: 1.0577225\ttotal: 12m 45s\tremaining: 3m 33s\n",
            "782:\tlearn: 1.0576157\ttotal: 12m 46s\tremaining: 3m 32s\n",
            "783:\tlearn: 1.0574886\ttotal: 12m 47s\tremaining: 3m 31s\n",
            "784:\tlearn: 1.0573134\ttotal: 12m 48s\tremaining: 3m 30s\n",
            "785:\tlearn: 1.0570418\ttotal: 12m 49s\tremaining: 3m 29s\n",
            "786:\tlearn: 1.0567714\ttotal: 12m 50s\tremaining: 3m 28s\n",
            "787:\tlearn: 1.0565238\ttotal: 12m 51s\tremaining: 3m 27s\n",
            "788:\tlearn: 1.0564317\ttotal: 12m 52s\tremaining: 3m 26s\n",
            "789:\tlearn: 1.0562992\ttotal: 12m 53s\tremaining: 3m 25s\n",
            "790:\tlearn: 1.0559477\ttotal: 12m 53s\tremaining: 3m 24s\n",
            "791:\tlearn: 1.0558023\ttotal: 12m 54s\tremaining: 3m 23s\n",
            "792:\tlearn: 1.0557361\ttotal: 12m 55s\tremaining: 3m 22s\n",
            "793:\tlearn: 1.0556228\ttotal: 12m 56s\tremaining: 3m 21s\n",
            "794:\tlearn: 1.0554950\ttotal: 12m 57s\tremaining: 3m 20s\n",
            "795:\tlearn: 1.0553332\ttotal: 12m 58s\tremaining: 3m 19s\n",
            "796:\tlearn: 1.0552498\ttotal: 12m 59s\tremaining: 3m 18s\n",
            "797:\tlearn: 1.0552279\ttotal: 13m\tremaining: 3m 17s\n",
            "798:\tlearn: 1.0549759\ttotal: 13m 1s\tremaining: 3m 16s\n",
            "799:\tlearn: 1.0548097\ttotal: 13m 2s\tremaining: 3m 15s\n",
            "800:\tlearn: 1.0546818\ttotal: 13m 3s\tremaining: 3m 14s\n",
            "801:\tlearn: 1.0544257\ttotal: 13m 4s\tremaining: 3m 13s\n",
            "802:\tlearn: 1.0542768\ttotal: 13m 5s\tremaining: 3m 12s\n",
            "803:\tlearn: 1.0536111\ttotal: 13m 6s\tremaining: 3m 11s\n",
            "804:\tlearn: 1.0534944\ttotal: 13m 7s\tremaining: 3m 10s\n",
            "805:\tlearn: 1.0533486\ttotal: 13m 8s\tremaining: 3m 9s\n",
            "806:\tlearn: 1.0532210\ttotal: 13m 8s\tremaining: 3m 8s\n",
            "807:\tlearn: 1.0530192\ttotal: 13m 9s\tremaining: 3m 7s\n",
            "808:\tlearn: 1.0528549\ttotal: 13m 10s\tremaining: 3m 6s\n",
            "809:\tlearn: 1.0523414\ttotal: 13m 11s\tremaining: 3m 5s\n",
            "810:\tlearn: 1.0522604\ttotal: 13m 12s\tremaining: 3m 4s\n",
            "811:\tlearn: 1.0521631\ttotal: 13m 13s\tremaining: 3m 3s\n",
            "812:\tlearn: 1.0520115\ttotal: 13m 14s\tremaining: 3m 2s\n",
            "813:\tlearn: 1.0519080\ttotal: 13m 15s\tremaining: 3m 1s\n",
            "814:\tlearn: 1.0515269\ttotal: 13m 16s\tremaining: 3m\n",
            "815:\tlearn: 1.0513056\ttotal: 13m 17s\tremaining: 2m 59s\n",
            "816:\tlearn: 1.0512102\ttotal: 13m 18s\tremaining: 2m 58s\n",
            "817:\tlearn: 1.0511044\ttotal: 13m 19s\tremaining: 2m 57s\n",
            "818:\tlearn: 1.0506764\ttotal: 13m 20s\tremaining: 2m 56s\n",
            "819:\tlearn: 1.0504429\ttotal: 13m 21s\tremaining: 2m 55s\n",
            "820:\tlearn: 1.0503501\ttotal: 13m 22s\tremaining: 2m 54s\n",
            "821:\tlearn: 1.0502304\ttotal: 13m 23s\tremaining: 2m 53s\n",
            "822:\tlearn: 1.0500042\ttotal: 13m 24s\tremaining: 2m 52s\n",
            "823:\tlearn: 1.0498763\ttotal: 13m 25s\tremaining: 2m 51s\n",
            "824:\tlearn: 1.0497484\ttotal: 13m 25s\tremaining: 2m 50s\n",
            "825:\tlearn: 1.0496887\ttotal: 13m 26s\tremaining: 2m 49s\n",
            "826:\tlearn: 1.0494732\ttotal: 13m 27s\tremaining: 2m 48s\n",
            "827:\tlearn: 1.0489990\ttotal: 13m 28s\tremaining: 2m 48s\n",
            "828:\tlearn: 1.0488769\ttotal: 13m 29s\tremaining: 2m 47s\n",
            "829:\tlearn: 1.0484669\ttotal: 13m 30s\tremaining: 2m 46s\n",
            "830:\tlearn: 1.0484052\ttotal: 13m 31s\tremaining: 2m 45s\n",
            "831:\tlearn: 1.0482880\ttotal: 13m 32s\tremaining: 2m 44s\n",
            "832:\tlearn: 1.0479593\ttotal: 13m 33s\tremaining: 2m 43s\n",
            "833:\tlearn: 1.0478383\ttotal: 13m 34s\tremaining: 2m 42s\n",
            "834:\tlearn: 1.0477277\ttotal: 13m 35s\tremaining: 2m 41s\n",
            "835:\tlearn: 1.0473737\ttotal: 13m 36s\tremaining: 2m 40s\n",
            "836:\tlearn: 1.0467840\ttotal: 13m 37s\tremaining: 2m 39s\n",
            "837:\tlearn: 1.0465165\ttotal: 13m 38s\tremaining: 2m 38s\n",
            "838:\tlearn: 1.0462926\ttotal: 13m 39s\tremaining: 2m 37s\n",
            "839:\tlearn: 1.0461746\ttotal: 13m 40s\tremaining: 2m 36s\n",
            "840:\tlearn: 1.0460363\ttotal: 13m 41s\tremaining: 2m 35s\n",
            "841:\tlearn: 1.0459163\ttotal: 13m 41s\tremaining: 2m 34s\n",
            "842:\tlearn: 1.0458585\ttotal: 13m 42s\tremaining: 2m 33s\n",
            "843:\tlearn: 1.0456135\ttotal: 13m 43s\tremaining: 2m 32s\n",
            "844:\tlearn: 1.0455596\ttotal: 13m 44s\tremaining: 2m 31s\n",
            "845:\tlearn: 1.0453612\ttotal: 13m 45s\tremaining: 2m 30s\n",
            "846:\tlearn: 1.0445754\ttotal: 13m 46s\tremaining: 2m 29s\n",
            "847:\tlearn: 1.0444754\ttotal: 13m 47s\tremaining: 2m 28s\n",
            "848:\tlearn: 1.0443112\ttotal: 13m 48s\tremaining: 2m 27s\n",
            "849:\tlearn: 1.0442445\ttotal: 13m 49s\tremaining: 2m 26s\n",
            "850:\tlearn: 1.0441396\ttotal: 13m 50s\tremaining: 2m 25s\n",
            "851:\tlearn: 1.0437800\ttotal: 13m 51s\tremaining: 2m 24s\n",
            "852:\tlearn: 1.0436676\ttotal: 13m 52s\tremaining: 2m 23s\n",
            "853:\tlearn: 1.0435882\ttotal: 13m 53s\tremaining: 2m 22s\n",
            "854:\tlearn: 1.0427914\ttotal: 13m 54s\tremaining: 2m 21s\n",
            "855:\tlearn: 1.0427278\ttotal: 13m 55s\tremaining: 2m 20s\n",
            "856:\tlearn: 1.0426261\ttotal: 13m 56s\tremaining: 2m 19s\n",
            "857:\tlearn: 1.0425534\ttotal: 13m 57s\tremaining: 2m 18s\n",
            "858:\tlearn: 1.0423038\ttotal: 13m 58s\tremaining: 2m 17s\n",
            "859:\tlearn: 1.0422031\ttotal: 13m 59s\tremaining: 2m 16s\n",
            "860:\tlearn: 1.0420835\ttotal: 13m 59s\tremaining: 2m 15s\n",
            "861:\tlearn: 1.0420306\ttotal: 14m\tremaining: 2m 14s\n",
            "862:\tlearn: 1.0411035\ttotal: 14m 2s\tremaining: 2m 13s\n",
            "863:\tlearn: 1.0410065\ttotal: 14m 3s\tremaining: 2m 12s\n",
            "864:\tlearn: 1.0408874\ttotal: 14m 4s\tremaining: 2m 11s\n",
            "865:\tlearn: 1.0407275\ttotal: 14m 5s\tremaining: 2m 10s\n",
            "866:\tlearn: 1.0404591\ttotal: 14m 5s\tremaining: 2m 9s\n",
            "867:\tlearn: 1.0403543\ttotal: 14m 6s\tremaining: 2m 8s\n",
            "868:\tlearn: 1.0402729\ttotal: 14m 7s\tremaining: 2m 7s\n",
            "869:\tlearn: 1.0401857\ttotal: 14m 8s\tremaining: 2m 6s\n",
            "870:\tlearn: 1.0399275\ttotal: 14m 9s\tremaining: 2m 5s\n",
            "871:\tlearn: 1.0398987\ttotal: 14m 10s\tremaining: 2m 4s\n",
            "872:\tlearn: 1.0397233\ttotal: 14m 11s\tremaining: 2m 3s\n",
            "873:\tlearn: 1.0395539\ttotal: 14m 12s\tremaining: 2m 2s\n",
            "874:\tlearn: 1.0394881\ttotal: 14m 13s\tremaining: 2m 1s\n",
            "875:\tlearn: 1.0393701\ttotal: 14m 14s\tremaining: 2m\n",
            "876:\tlearn: 1.0392637\ttotal: 14m 15s\tremaining: 1m 59s\n",
            "877:\tlearn: 1.0391453\ttotal: 14m 16s\tremaining: 1m 58s\n",
            "878:\tlearn: 1.0389347\ttotal: 14m 17s\tremaining: 1m 57s\n",
            "879:\tlearn: 1.0388387\ttotal: 14m 18s\tremaining: 1m 57s\n",
            "880:\tlearn: 1.0386483\ttotal: 14m 18s\tremaining: 1m 56s\n",
            "881:\tlearn: 1.0385169\ttotal: 14m 19s\tremaining: 1m 55s\n",
            "882:\tlearn: 1.0383140\ttotal: 14m 20s\tremaining: 1m 54s\n",
            "883:\tlearn: 1.0381961\ttotal: 14m 21s\tremaining: 1m 53s\n",
            "884:\tlearn: 1.0381157\ttotal: 14m 22s\tremaining: 1m 52s\n",
            "885:\tlearn: 1.0379667\ttotal: 14m 23s\tremaining: 1m 51s\n",
            "886:\tlearn: 1.0379197\ttotal: 14m 24s\tremaining: 1m 50s\n",
            "887:\tlearn: 1.0377876\ttotal: 14m 25s\tremaining: 1m 49s\n",
            "888:\tlearn: 1.0377195\ttotal: 14m 26s\tremaining: 1m 48s\n",
            "889:\tlearn: 1.0376138\ttotal: 14m 27s\tremaining: 1m 47s\n",
            "890:\tlearn: 1.0374011\ttotal: 14m 28s\tremaining: 1m 46s\n",
            "891:\tlearn: 1.0372762\ttotal: 14m 29s\tremaining: 1m 45s\n",
            "892:\tlearn: 1.0370811\ttotal: 14m 30s\tremaining: 1m 44s\n",
            "893:\tlearn: 1.0368850\ttotal: 14m 31s\tremaining: 1m 43s\n",
            "894:\tlearn: 1.0367520\ttotal: 14m 32s\tremaining: 1m 42s\n",
            "895:\tlearn: 1.0366516\ttotal: 14m 32s\tremaining: 1m 41s\n",
            "896:\tlearn: 1.0365667\ttotal: 14m 33s\tremaining: 1m 40s\n",
            "897:\tlearn: 1.0363418\ttotal: 14m 34s\tremaining: 1m 39s\n",
            "898:\tlearn: 1.0361959\ttotal: 14m 35s\tremaining: 1m 38s\n",
            "899:\tlearn: 1.0359858\ttotal: 14m 36s\tremaining: 1m 37s\n",
            "900:\tlearn: 1.0357129\ttotal: 14m 37s\tremaining: 1m 36s\n",
            "901:\tlearn: 1.0350489\ttotal: 14m 38s\tremaining: 1m 35s\n",
            "902:\tlearn: 1.0348225\ttotal: 14m 39s\tremaining: 1m 34s\n",
            "903:\tlearn: 1.0346438\ttotal: 14m 40s\tremaining: 1m 33s\n",
            "904:\tlearn: 1.0345390\ttotal: 14m 41s\tremaining: 1m 32s\n",
            "905:\tlearn: 1.0343641\ttotal: 14m 42s\tremaining: 1m 31s\n",
            "906:\tlearn: 1.0341169\ttotal: 14m 43s\tremaining: 1m 30s\n",
            "907:\tlearn: 1.0340347\ttotal: 14m 44s\tremaining: 1m 29s\n",
            "908:\tlearn: 1.0339496\ttotal: 14m 45s\tremaining: 1m 28s\n",
            "909:\tlearn: 1.0338261\ttotal: 14m 46s\tremaining: 1m 27s\n",
            "910:\tlearn: 1.0337242\ttotal: 14m 47s\tremaining: 1m 26s\n",
            "911:\tlearn: 1.0336379\ttotal: 14m 48s\tremaining: 1m 25s\n",
            "912:\tlearn: 1.0335409\ttotal: 14m 48s\tremaining: 1m 24s\n",
            "913:\tlearn: 1.0333385\ttotal: 14m 49s\tremaining: 1m 23s\n",
            "914:\tlearn: 1.0332459\ttotal: 14m 50s\tremaining: 1m 22s\n",
            "915:\tlearn: 1.0330705\ttotal: 14m 51s\tremaining: 1m 21s\n",
            "916:\tlearn: 1.0329650\ttotal: 14m 52s\tremaining: 1m 20s\n",
            "917:\tlearn: 1.0328625\ttotal: 14m 53s\tremaining: 1m 19s\n",
            "918:\tlearn: 1.0326572\ttotal: 14m 54s\tremaining: 1m 18s\n",
            "919:\tlearn: 1.0324395\ttotal: 14m 55s\tremaining: 1m 17s\n",
            "920:\tlearn: 1.0320423\ttotal: 14m 56s\tremaining: 1m 16s\n",
            "921:\tlearn: 1.0317896\ttotal: 14m 57s\tremaining: 1m 15s\n",
            "922:\tlearn: 1.0317333\ttotal: 14m 58s\tremaining: 1m 14s\n",
            "923:\tlearn: 1.0315110\ttotal: 14m 59s\tremaining: 1m 13s\n",
            "924:\tlearn: 1.0314314\ttotal: 15m\tremaining: 1m 12s\n",
            "925:\tlearn: 1.0313645\ttotal: 15m 1s\tremaining: 1m 12s\n",
            "926:\tlearn: 1.0313167\ttotal: 15m 1s\tremaining: 1m 11s\n",
            "927:\tlearn: 1.0312047\ttotal: 15m 2s\tremaining: 1m 10s\n",
            "928:\tlearn: 1.0311498\ttotal: 15m 3s\tremaining: 1m 9s\n",
            "929:\tlearn: 1.0309794\ttotal: 15m 4s\tremaining: 1m 8s\n",
            "930:\tlearn: 1.0308609\ttotal: 15m 5s\tremaining: 1m 7s\n",
            "931:\tlearn: 1.0307108\ttotal: 15m 6s\tremaining: 1m 6s\n",
            "932:\tlearn: 1.0306313\ttotal: 15m 7s\tremaining: 1m 5s\n",
            "933:\tlearn: 1.0305150\ttotal: 15m 8s\tremaining: 1m 4s\n",
            "934:\tlearn: 1.0304082\ttotal: 15m 9s\tremaining: 1m 3s\n",
            "935:\tlearn: 1.0302830\ttotal: 15m 10s\tremaining: 1m 2s\n",
            "936:\tlearn: 1.0301720\ttotal: 15m 11s\tremaining: 1m 1s\n",
            "937:\tlearn: 1.0299142\ttotal: 15m 12s\tremaining: 1m\n",
            "938:\tlearn: 1.0298383\ttotal: 15m 13s\tremaining: 59.3s\n",
            "939:\tlearn: 1.0297312\ttotal: 15m 14s\tremaining: 58.3s\n",
            "940:\tlearn: 1.0296208\ttotal: 15m 15s\tremaining: 57.4s\n",
            "941:\tlearn: 1.0295318\ttotal: 15m 15s\tremaining: 56.4s\n",
            "942:\tlearn: 1.0294356\ttotal: 15m 16s\tremaining: 55.4s\n",
            "943:\tlearn: 1.0293290\ttotal: 15m 17s\tremaining: 54.4s\n",
            "944:\tlearn: 1.0291960\ttotal: 15m 18s\tremaining: 53.5s\n",
            "945:\tlearn: 1.0288677\ttotal: 15m 19s\tremaining: 52.5s\n",
            "946:\tlearn: 1.0287402\ttotal: 15m 20s\tremaining: 51.5s\n",
            "947:\tlearn: 1.0286188\ttotal: 15m 21s\tremaining: 50.5s\n",
            "948:\tlearn: 1.0283896\ttotal: 15m 22s\tremaining: 49.6s\n",
            "949:\tlearn: 1.0277317\ttotal: 15m 23s\tremaining: 48.6s\n",
            "950:\tlearn: 1.0275821\ttotal: 15m 24s\tremaining: 47.6s\n",
            "951:\tlearn: 1.0275508\ttotal: 15m 25s\tremaining: 46.7s\n",
            "952:\tlearn: 1.0273024\ttotal: 15m 26s\tremaining: 45.7s\n",
            "953:\tlearn: 1.0272115\ttotal: 15m 27s\tremaining: 44.7s\n",
            "954:\tlearn: 1.0268063\ttotal: 15m 28s\tremaining: 43.7s\n",
            "955:\tlearn: 1.0267060\ttotal: 15m 29s\tremaining: 42.8s\n",
            "956:\tlearn: 1.0266583\ttotal: 15m 29s\tremaining: 41.8s\n",
            "957:\tlearn: 1.0266354\ttotal: 15m 30s\tremaining: 40.8s\n",
            "958:\tlearn: 1.0265256\ttotal: 15m 31s\tremaining: 39.8s\n",
            "959:\tlearn: 1.0264245\ttotal: 15m 32s\tremaining: 38.9s\n",
            "960:\tlearn: 1.0263068\ttotal: 15m 33s\tremaining: 37.9s\n",
            "961:\tlearn: 1.0259611\ttotal: 15m 34s\tremaining: 36.9s\n",
            "962:\tlearn: 1.0258689\ttotal: 15m 35s\tremaining: 35.9s\n",
            "963:\tlearn: 1.0257800\ttotal: 15m 36s\tremaining: 35s\n",
            "964:\tlearn: 1.0256653\ttotal: 15m 37s\tremaining: 34s\n",
            "965:\tlearn: 1.0255268\ttotal: 15m 38s\tremaining: 33s\n",
            "966:\tlearn: 1.0252586\ttotal: 15m 39s\tremaining: 32.1s\n",
            "967:\tlearn: 1.0251861\ttotal: 15m 40s\tremaining: 31.1s\n",
            "968:\tlearn: 1.0250502\ttotal: 15m 41s\tremaining: 30.1s\n",
            "969:\tlearn: 1.0247085\ttotal: 15m 42s\tremaining: 29.1s\n",
            "970:\tlearn: 1.0245988\ttotal: 15m 42s\tremaining: 28.2s\n",
            "971:\tlearn: 1.0244500\ttotal: 15m 43s\tremaining: 27.2s\n",
            "972:\tlearn: 1.0242973\ttotal: 15m 44s\tremaining: 26.2s\n",
            "973:\tlearn: 1.0241838\ttotal: 15m 45s\tremaining: 25.2s\n",
            "974:\tlearn: 1.0240818\ttotal: 15m 46s\tremaining: 24.3s\n",
            "975:\tlearn: 1.0240154\ttotal: 15m 47s\tremaining: 23.3s\n",
            "976:\tlearn: 1.0238938\ttotal: 15m 48s\tremaining: 22.3s\n",
            "977:\tlearn: 1.0234627\ttotal: 15m 49s\tremaining: 21.4s\n",
            "978:\tlearn: 1.0233718\ttotal: 15m 50s\tremaining: 20.4s\n",
            "979:\tlearn: 1.0233122\ttotal: 15m 51s\tremaining: 19.4s\n",
            "980:\tlearn: 1.0231936\ttotal: 15m 52s\tremaining: 18.4s\n",
            "981:\tlearn: 1.0230434\ttotal: 15m 53s\tremaining: 17.5s\n",
            "982:\tlearn: 1.0229848\ttotal: 15m 54s\tremaining: 16.5s\n",
            "983:\tlearn: 1.0228508\ttotal: 15m 54s\tremaining: 15.5s\n",
            "984:\tlearn: 1.0227680\ttotal: 15m 55s\tremaining: 14.6s\n",
            "985:\tlearn: 1.0226644\ttotal: 15m 56s\tremaining: 13.6s\n",
            "986:\tlearn: 1.0225601\ttotal: 15m 57s\tremaining: 12.6s\n",
            "987:\tlearn: 1.0224535\ttotal: 15m 58s\tremaining: 11.6s\n",
            "988:\tlearn: 1.0221127\ttotal: 15m 59s\tremaining: 10.7s\n",
            "989:\tlearn: 1.0216431\ttotal: 16m\tremaining: 9.7s\n",
            "990:\tlearn: 1.0215416\ttotal: 16m 1s\tremaining: 8.73s\n",
            "991:\tlearn: 1.0214987\ttotal: 16m 2s\tremaining: 7.76s\n",
            "992:\tlearn: 1.0214286\ttotal: 16m 3s\tremaining: 6.79s\n",
            "993:\tlearn: 1.0213677\ttotal: 16m 4s\tremaining: 5.82s\n",
            "994:\tlearn: 1.0213038\ttotal: 16m 5s\tremaining: 4.85s\n",
            "995:\tlearn: 1.0211868\ttotal: 16m 6s\tremaining: 3.88s\n",
            "996:\tlearn: 1.0211019\ttotal: 16m 7s\tremaining: 2.91s\n",
            "997:\tlearn: 1.0210226\ttotal: 16m 8s\tremaining: 1.94s\n",
            "998:\tlearn: 1.0208110\ttotal: 16m 8s\tremaining: 970ms\n",
            "999:\tlearn: 1.0207182\ttotal: 16m 9s\tremaining: 0us\n",
            "0.7332679097154072\n"
          ],
          "name": "stdout"
        }
      ]
    },
    {
      "cell_type": "code",
      "metadata": {
        "colab_type": "code",
        "id": "95TWtGPGO3GN",
        "outputId": "c8308195-86c0-407c-8844-f009f2190196",
        "colab": {
          "base_uri": "https://localhost:8080/",
          "height": 35
        }
      },
      "source": [
        "#LightGBM\n",
        "clf = lgb.LGBMClassifier()\n",
        "clf.fit(train_x,train_y)\n",
        "y_pred_lgb = clf.predict(test_x)\n",
        "print(accuracy_score(y_pred_lgb, test_y))\n",
        "score_lgb = f1_score(test_y, y_pred_lgb, average = 'weighted')\n",
        "print(score_lgb)"
      ],
      "execution_count": 0,
      "outputs": [
        {
          "output_type": "stream",
          "text": [
            "0.7656918547595682\n",
            "0.7690653930206779\n"
          ],
          "name": "stdout"
        }
      ]
    },
    {
      "cell_type": "markdown",
      "metadata": {
        "id": "0l1ZI3MvlEU4",
        "colab_type": "text"
      },
      "source": [
        "# Stacking Classifiers"
      ]
    },
    {
      "cell_type": "markdown",
      "metadata": {
        "id": "dN-DHoGQlEU4",
        "colab_type": "text"
      },
      "source": [
        "We have run several prediction models(including non-ensemble methods) to see which are the classifiers giving best accuracies so that it can be used in the stacking algorithms."
      ]
    },
    {
      "cell_type": "code",
      "metadata": {
        "colab_type": "code",
        "id": "3IewMDhrIkeM",
        "outputId": "2fe59754-d584-49c7-cbe2-4e586c017140",
        "colab": {
          "base_uri": "https://localhost:8080/",
          "height": 714
        }
      },
      "source": [
        "clf = LogisticRegressionCV(max_iter=500)\n",
        "clf.fit(train_x,train_y)\n",
        "y_pred_lr = clf.predict(test_x)\n",
        "print(accuracy_score(y_pred_lr, test_y))"
      ],
      "execution_count": 0,
      "outputs": [
        {
          "output_type": "stream",
          "text": [
            "/usr/local/lib/python3.6/dist-packages/sklearn/linear_model/_logistic.py:940: ConvergenceWarning: lbfgs failed to converge (status=1):\n",
            "STOP: TOTAL NO. of ITERATIONS REACHED LIMIT.\n",
            "\n",
            "Increase the number of iterations (max_iter) or scale the data as shown in:\n",
            "    https://scikit-learn.org/stable/modules/preprocessing.html\n",
            "Please also refer to the documentation for alternative solver options:\n",
            "    https://scikit-learn.org/stable/modules/linear_model.html#logistic-regression\n",
            "  extra_warning_msg=_LOGISTIC_SOLVER_CONVERGENCE_MSG)\n",
            "/usr/local/lib/python3.6/dist-packages/sklearn/linear_model/_logistic.py:940: ConvergenceWarning: lbfgs failed to converge (status=1):\n",
            "STOP: TOTAL NO. of ITERATIONS REACHED LIMIT.\n",
            "\n",
            "Increase the number of iterations (max_iter) or scale the data as shown in:\n",
            "    https://scikit-learn.org/stable/modules/preprocessing.html\n",
            "Please also refer to the documentation for alternative solver options:\n",
            "    https://scikit-learn.org/stable/modules/linear_model.html#logistic-regression\n",
            "  extra_warning_msg=_LOGISTIC_SOLVER_CONVERGENCE_MSG)\n",
            "/usr/local/lib/python3.6/dist-packages/sklearn/linear_model/_logistic.py:940: ConvergenceWarning: lbfgs failed to converge (status=1):\n",
            "STOP: TOTAL NO. of ITERATIONS REACHED LIMIT.\n",
            "\n",
            "Increase the number of iterations (max_iter) or scale the data as shown in:\n",
            "    https://scikit-learn.org/stable/modules/preprocessing.html\n",
            "Please also refer to the documentation for alternative solver options:\n",
            "    https://scikit-learn.org/stable/modules/linear_model.html#logistic-regression\n",
            "  extra_warning_msg=_LOGISTIC_SOLVER_CONVERGENCE_MSG)\n",
            "/usr/local/lib/python3.6/dist-packages/sklearn/linear_model/_logistic.py:940: ConvergenceWarning: lbfgs failed to converge (status=1):\n",
            "STOP: TOTAL NO. of ITERATIONS REACHED LIMIT.\n",
            "\n",
            "Increase the number of iterations (max_iter) or scale the data as shown in:\n",
            "    https://scikit-learn.org/stable/modules/preprocessing.html\n",
            "Please also refer to the documentation for alternative solver options:\n",
            "    https://scikit-learn.org/stable/modules/linear_model.html#logistic-regression\n",
            "  extra_warning_msg=_LOGISTIC_SOLVER_CONVERGENCE_MSG)\n",
            "/usr/local/lib/python3.6/dist-packages/sklearn/linear_model/_logistic.py:940: ConvergenceWarning: lbfgs failed to converge (status=1):\n",
            "STOP: TOTAL NO. of ITERATIONS REACHED LIMIT.\n",
            "\n",
            "Increase the number of iterations (max_iter) or scale the data as shown in:\n",
            "    https://scikit-learn.org/stable/modules/preprocessing.html\n",
            "Please also refer to the documentation for alternative solver options:\n",
            "    https://scikit-learn.org/stable/modules/linear_model.html#logistic-regression\n",
            "  extra_warning_msg=_LOGISTIC_SOLVER_CONVERGENCE_MSG)\n"
          ],
          "name": "stderr"
        },
        {
          "output_type": "stream",
          "text": [
            "0.8035721295387634\n"
          ],
          "name": "stdout"
        }
      ]
    },
    {
      "cell_type": "code",
      "metadata": {
        "colab_type": "code",
        "id": "TMzn5WGLJXQ0",
        "outputId": "71265f8f-7498-41b6-c656-1e14ce8b5b23",
        "colab": {
          "base_uri": "https://localhost:8080/",
          "height": 35
        }
      },
      "source": [
        "clf = DecisionTreeClassifier()\n",
        "clf.fit(train_x,train_y)\n",
        "y_pred_kn = clf.predict(test_x)\n",
        "print(accuracy_score(y_pred_kn, test_y))"
      ],
      "execution_count": 0,
      "outputs": [
        {
          "output_type": "stream",
          "text": [
            "0.7171344455348381\n"
          ],
          "name": "stdout"
        }
      ]
    },
    {
      "cell_type": "code",
      "metadata": {
        "colab_type": "code",
        "id": "mrhYhs-5P5OS",
        "outputId": "99e43cd1-4171-483b-8cff-0cee24558af8",
        "colab": {
          "base_uri": "https://localhost:8080/",
          "height": 68
        }
      },
      "source": [
        "clf = LinearSVC(loss='hinge')\n",
        "clf.fit(train_x,train_y)\n",
        "y_pred_lsvm = clf.predict(test_x)\n",
        "print(accuracy_score(y_pred_lsvm, test_y))"
      ],
      "execution_count": 0,
      "outputs": [
        {
          "output_type": "stream",
          "text": [
            "0.8065161923454367\n"
          ],
          "name": "stdout"
        },
        {
          "output_type": "stream",
          "text": [
            "/usr/local/lib/python3.6/dist-packages/sklearn/svm/_base.py:947: ConvergenceWarning: Liblinear failed to converge, increase the number of iterations.\n",
            "  \"the number of iterations.\", ConvergenceWarning)\n"
          ],
          "name": "stderr"
        }
      ]
    },
    {
      "cell_type": "code",
      "metadata": {
        "colab_type": "code",
        "id": "XzvGRDmDQQUM",
        "outputId": "1390b1f7-dc86-4185-aed3-4b089de6b46f",
        "colab": {
          "base_uri": "https://localhost:8080/",
          "height": 35
        }
      },
      "source": [
        "clf = SVC()\n",
        "clf.fit(train_x,train_y)\n",
        "y_pred_svm = clf.predict(test_x)\n",
        "print(accuracy_score(y_pred_svm, test_y))"
      ],
      "execution_count": 0,
      "outputs": [
        {
          "output_type": "stream",
          "text": [
            "0.8\n"
          ],
          "name": "stdout"
        }
      ]
    },
    {
      "cell_type": "code",
      "metadata": {
        "colab_type": "code",
        "id": "DraPwO1_3XTh",
        "outputId": "7f0e993d-25d1-4c53-c39f-9e16f428e78f",
        "colab": {
          "base_uri": "https://localhost:8080/",
          "height": 187
        }
      },
      "source": [
        "#stacking - 1\n",
        "base_learners = [\n",
        "                 ('lr', LogisticRegression(max_iter=1000)),\n",
        "                 ('svr', LinearSVC(random_state=42)),\n",
        "                 ('rf', RandomForestClassifier(n_estimators=30, random_state=42))\n",
        "                     \n",
        "                ]\n",
        "clf = StackingClassifier(estimators=base_learners, final_estimator=LogisticRegression(max_iter=500))\n",
        "clf.fit(train_x,train_y)\n",
        "y_pred_sc1 = clf.predict(test_x)\n",
        "print(accuracy_score(y_pred_sc1, test_y))\n",
        "score_sc1 = f1_score(test_y, y_pred_sc1, average = 'weighted')\n",
        "print(score_sc1)"
      ],
      "execution_count": 0,
      "outputs": [
        {
          "output_type": "stream",
          "text": [
            "/usr/local/lib/python3.6/dist-packages/sklearn/linear_model/_logistic.py:940: ConvergenceWarning: lbfgs failed to converge (status=1):\n",
            "STOP: TOTAL NO. of ITERATIONS REACHED LIMIT.\n",
            "\n",
            "Increase the number of iterations (max_iter) or scale the data as shown in:\n",
            "    https://scikit-learn.org/stable/modules/preprocessing.html\n",
            "Please also refer to the documentation for alternative solver options:\n",
            "    https://scikit-learn.org/stable/modules/linear_model.html#logistic-regression\n",
            "  extra_warning_msg=_LOGISTIC_SOLVER_CONVERGENCE_MSG)\n"
          ],
          "name": "stderr"
        },
        {
          "output_type": "stream",
          "text": [
            "0.8199803729146222\n",
            "0.8202352295360354\n"
          ],
          "name": "stdout"
        }
      ]
    },
    {
      "cell_type": "code",
      "metadata": {
        "colab_type": "code",
        "id": "OrZ65SjlUf69",
        "colab": {}
      },
      "source": [
        "y_pred_sc1_test = clf.predict(test_tfidf)\n",
        "pred_df = pd.DataFrame(y_pred_sc1_test)\n",
        "pred_df.to_csv(\"/content/drive/My Drive/MDSBA/ELTA/stacking1.csv\", index=True, index_label='Id')"
      ],
      "execution_count": 0,
      "outputs": []
    },
    {
      "cell_type": "markdown",
      "metadata": {
        "id": "wwJfcp3UlEVg",
        "colab_type": "text"
      },
      "source": [
        "#### Highest accuracy with Stacking classifier"
      ]
    },
    {
      "cell_type": "code",
      "metadata": {
        "colab_type": "code",
        "id": "gF7ggy28JLs1",
        "colab": {}
      },
      "source": [
        "#stacking - 2 - highest accuracy\n",
        "base_learners = [\n",
        "                 ('lr', LogisticRegressionCV(max_iter=1000)),\n",
        "                 ('svr', LinearSVC(random_state=42)),\n",
        "                 ('rf', ExtraTreesClassifier(n_estimators=100))\n",
        "                     \n",
        "                ]\n",
        "clf = StackingClassifier(estimators=base_learners, final_estimator=LogisticRegression(max_iter=500))\n",
        "clf.fit(train_x,train_y)"
      ],
      "execution_count": 0,
      "outputs": []
    },
    {
      "cell_type": "code",
      "metadata": {
        "id": "UCGXrQOglEVn",
        "colab_type": "code",
        "colab": {},
        "outputId": "3d7b0530-746c-4a93-d6b6-f3ecaf90e9dd"
      },
      "source": [
        "print(accuracy_score(y_pred_sc2, test_y))\n",
        "score_sc2 = f1_score(test_y, y_pred_sc2, average = 'weighted')\n",
        "print(score_sc2)"
      ],
      "execution_count": 0,
      "outputs": [
        {
          "output_type": "stream",
          "text": [
            "0.8224926398429833\n",
            "0.8226002910177455\n"
          ],
          "name": "stdout"
        }
      ]
    },
    {
      "cell_type": "code",
      "metadata": {
        "id": "ua8QXcfKlEVy",
        "colab_type": "code",
        "colab": {}
      },
      "source": [
        "y_pred_sc2_test = clf.predict(test_tfidf)\n",
        "pred_df = pd.DataFrame(y_pred_sc2_test)\n",
        "pred_df.to_csv(\"stacking2.csv\", index=True, index_label='Id')"
      ],
      "execution_count": 0,
      "outputs": []
    },
    {
      "cell_type": "code",
      "metadata": {
        "colab_type": "code",
        "id": "n5AtDY6DXWdb",
        "outputId": "57128aea-8ed6-4e26-8b69-8012d3df15cc",
        "colab": {
          "base_uri": "https://localhost:8080/",
          "height": 255
        }
      },
      "source": [
        "#stacking - 3\n",
        "base_learners = [\n",
        "                 ('lr', LogisticRegression(max_iter=1000)),\n",
        "                 ('svr', LinearSVC(random_state=42))\n",
        "                     \n",
        "                ]\n",
        "clf = StackingClassifier(estimators=base_learners, final_estimator=LogisticRegression(max_iter=500))\n",
        "clf.fit(train_x,train_y)\n",
        "y_pred_sc3 = clf.predict(test_x)\n",
        "print(accuracy_score(y_pred_sc3, test_y))\n",
        "score_sc3 = f1_score(test_y, y_pred_sc3, average = 'weighted')\n",
        "print(score_sc3)"
      ],
      "execution_count": 0,
      "outputs": [
        {
          "output_type": "stream",
          "text": [
            "/usr/local/lib/python3.6/dist-packages/sklearn/svm/_base.py:947: ConvergenceWarning: Liblinear failed to converge, increase the number of iterations.\n",
            "  \"the number of iterations.\", ConvergenceWarning)\n",
            "/usr/local/lib/python3.6/dist-packages/sklearn/svm/_base.py:947: ConvergenceWarning: Liblinear failed to converge, increase the number of iterations.\n",
            "  \"the number of iterations.\", ConvergenceWarning)\n"
          ],
          "name": "stderr"
        },
        {
          "output_type": "stream",
          "text": [
            "0.808243375858685\n",
            "0.8090231240928568\n"
          ],
          "name": "stdout"
        },
        {
          "output_type": "stream",
          "text": [
            "/usr/local/lib/python3.6/dist-packages/sklearn/linear_model/_logistic.py:940: ConvergenceWarning: lbfgs failed to converge (status=1):\n",
            "STOP: TOTAL NO. of ITERATIONS REACHED LIMIT.\n",
            "\n",
            "Increase the number of iterations (max_iter) or scale the data as shown in:\n",
            "    https://scikit-learn.org/stable/modules/preprocessing.html\n",
            "Please also refer to the documentation for alternative solver options:\n",
            "    https://scikit-learn.org/stable/modules/linear_model.html#logistic-regression\n",
            "  extra_warning_msg=_LOGISTIC_SOLVER_CONVERGENCE_MSG)\n"
          ],
          "name": "stderr"
        }
      ]
    },
    {
      "cell_type": "code",
      "metadata": {
        "colab_type": "code",
        "id": "NwrQ3RUX5yQU",
        "outputId": "b3e0f685-d788-4f03-fa39-8cd10b025b62",
        "colab": {
          "base_uri": "https://localhost:8080/",
          "height": 867
        }
      },
      "source": [
        "#multilayer stacking - 1\n",
        "layer_one_estimators = [\n",
        "                        ('svc', LinearSVC()),\n",
        "                        ('rf_1', RandomForestClassifier(n_estimators=100, random_state=42))            \n",
        "                       ]\n",
        "layer_two_estimators = [\n",
        "                        ('lr', LogisticRegression(max_iter=1000)),\n",
        "                        ('rf_2', RandomForestClassifier(n_estimators=100, random_state=42)),\n",
        "                       ]\n",
        "layer_two = StackingClassifier(estimators=layer_two_estimators, final_estimator=LogisticRegression(max_iter = 500))\n",
        "clf = StackingClassifier(estimators=layer_one_estimators, final_estimator=layer_two)\n",
        "clf.fit(train_x,train_y)\n",
        "y_pred_msc1 = clf.predict(test_x)\n",
        "print(accuracy_score(y_pred_msc1, test_y))\n",
        "score_msc1 = f1_score(test_y, y_pred_msc1, average = 'weighted')\n",
        "print(score_msc1)"
      ],
      "execution_count": 0,
      "outputs": [
        {
          "output_type": "stream",
          "text": [
            "/usr/local/lib/python3.6/dist-packages/sklearn/linear_model/_logistic.py:940: ConvergenceWarning: lbfgs failed to converge (status=1):\n",
            "STOP: TOTAL NO. of ITERATIONS REACHED LIMIT.\n",
            "\n",
            "Increase the number of iterations (max_iter) or scale the data as shown in:\n",
            "    https://scikit-learn.org/stable/modules/preprocessing.html\n",
            "Please also refer to the documentation for alternative solver options:\n",
            "    https://scikit-learn.org/stable/modules/linear_model.html#logistic-regression\n",
            "  extra_warning_msg=_LOGISTIC_SOLVER_CONVERGENCE_MSG)\n",
            "/usr/local/lib/python3.6/dist-packages/sklearn/linear_model/_logistic.py:940: ConvergenceWarning: lbfgs failed to converge (status=1):\n",
            "STOP: TOTAL NO. of ITERATIONS REACHED LIMIT.\n",
            "\n",
            "Increase the number of iterations (max_iter) or scale the data as shown in:\n",
            "    https://scikit-learn.org/stable/modules/preprocessing.html\n",
            "Please also refer to the documentation for alternative solver options:\n",
            "    https://scikit-learn.org/stable/modules/linear_model.html#logistic-regression\n",
            "  extra_warning_msg=_LOGISTIC_SOLVER_CONVERGENCE_MSG)\n",
            "/usr/local/lib/python3.6/dist-packages/sklearn/linear_model/_logistic.py:940: ConvergenceWarning: lbfgs failed to converge (status=1):\n",
            "STOP: TOTAL NO. of ITERATIONS REACHED LIMIT.\n",
            "\n",
            "Increase the number of iterations (max_iter) or scale the data as shown in:\n",
            "    https://scikit-learn.org/stable/modules/preprocessing.html\n",
            "Please also refer to the documentation for alternative solver options:\n",
            "    https://scikit-learn.org/stable/modules/linear_model.html#logistic-regression\n",
            "  extra_warning_msg=_LOGISTIC_SOLVER_CONVERGENCE_MSG)\n",
            "/usr/local/lib/python3.6/dist-packages/sklearn/linear_model/_logistic.py:940: ConvergenceWarning: lbfgs failed to converge (status=1):\n",
            "STOP: TOTAL NO. of ITERATIONS REACHED LIMIT.\n",
            "\n",
            "Increase the number of iterations (max_iter) or scale the data as shown in:\n",
            "    https://scikit-learn.org/stable/modules/preprocessing.html\n",
            "Please also refer to the documentation for alternative solver options:\n",
            "    https://scikit-learn.org/stable/modules/linear_model.html#logistic-regression\n",
            "  extra_warning_msg=_LOGISTIC_SOLVER_CONVERGENCE_MSG)\n",
            "/usr/local/lib/python3.6/dist-packages/sklearn/linear_model/_logistic.py:940: ConvergenceWarning: lbfgs failed to converge (status=1):\n",
            "STOP: TOTAL NO. of ITERATIONS REACHED LIMIT.\n",
            "\n",
            "Increase the number of iterations (max_iter) or scale the data as shown in:\n",
            "    https://scikit-learn.org/stable/modules/preprocessing.html\n",
            "Please also refer to the documentation for alternative solver options:\n",
            "    https://scikit-learn.org/stable/modules/linear_model.html#logistic-regression\n",
            "  extra_warning_msg=_LOGISTIC_SOLVER_CONVERGENCE_MSG)\n",
            "/usr/local/lib/python3.6/dist-packages/sklearn/linear_model/_logistic.py:940: ConvergenceWarning: lbfgs failed to converge (status=1):\n",
            "STOP: TOTAL NO. of ITERATIONS REACHED LIMIT.\n",
            "\n",
            "Increase the number of iterations (max_iter) or scale the data as shown in:\n",
            "    https://scikit-learn.org/stable/modules/preprocessing.html\n",
            "Please also refer to the documentation for alternative solver options:\n",
            "    https://scikit-learn.org/stable/modules/linear_model.html#logistic-regression\n",
            "  extra_warning_msg=_LOGISTIC_SOLVER_CONVERGENCE_MSG)\n"
          ],
          "name": "stderr"
        },
        {
          "output_type": "stream",
          "text": [
            "0.8195878312070658\n",
            "0.8209223857475714\n"
          ],
          "name": "stdout"
        }
      ]
    },
    {
      "cell_type": "code",
      "metadata": {
        "colab_type": "code",
        "id": "QlM0YACLaYcQ",
        "colab": {}
      },
      "source": [
        "y_pred_msc1_test = clf.predict(test_tfidf)\n",
        "pred_df = pd.DataFrame(y_pred_msc1_test)\n",
        "pred_df.to_csv(\"/content/drive/My Drive/MDSBA/ELTA/stack1_rf.csv\", index=True, index_label='Id')"
      ],
      "execution_count": 0,
      "outputs": []
    },
    {
      "cell_type": "code",
      "metadata": {
        "colab_type": "code",
        "id": "pF_6Wq2YQBgZ",
        "outputId": "7d73ef5b-9ae4-468b-854f-dd9e3917fc01",
        "colab": {
          "base_uri": "https://localhost:8080/",
          "height": 187
        }
      },
      "source": [
        "#multilayer stacking - 2\n",
        "layer_one_estimators = [\n",
        "                        ('lr',LogisticRegression(max_iter=1000)),\n",
        "                        ('rf_1', ExtraTreesClassifier(n_estimators=100, random_state=42))            \n",
        "                       ]\n",
        "layer_two_estimators = [\n",
        "                        ('svc', LinearSVC(loss='hinge')),\n",
        "                        ('rf_2', ExtraTreesClassifier(n_estimators=100, random_state=42)),\n",
        "                       ]\n",
        "layer_two = StackingClassifier(estimators=layer_two_estimators, final_estimator=LogisticRegression(max_iter = 500))\n",
        "clf = StackingClassifier(estimators=layer_one_estimators, final_estimator=layer_two)\n",
        "clf.fit(train_x,train_y)\n",
        "y_pred_msc2 = clf.predict(test_x)\n",
        "print(accuracy_score(y_pred_msc2, test_y))\n",
        "score_msc2 = f1_score(test_y, y_pred_msc2, average = 'weighted')\n",
        "print(score_msc2)"
      ],
      "execution_count": 0,
      "outputs": [
        {
          "output_type": "stream",
          "text": [
            "/usr/local/lib/python3.6/dist-packages/sklearn/linear_model/_logistic.py:940: ConvergenceWarning: lbfgs failed to converge (status=1):\n",
            "STOP: TOTAL NO. of ITERATIONS REACHED LIMIT.\n",
            "\n",
            "Increase the number of iterations (max_iter) or scale the data as shown in:\n",
            "    https://scikit-learn.org/stable/modules/preprocessing.html\n",
            "Please also refer to the documentation for alternative solver options:\n",
            "    https://scikit-learn.org/stable/modules/linear_model.html#logistic-regression\n",
            "  extra_warning_msg=_LOGISTIC_SOLVER_CONVERGENCE_MSG)\n"
          ],
          "name": "stderr"
        },
        {
          "output_type": "stream",
          "text": [
            "0.8065554465161924\n",
            "0.8075034564481208\n"
          ],
          "name": "stdout"
        }
      ]
    },
    {
      "cell_type": "markdown",
      "metadata": {
        "id": "ffm3D-dFlEWf",
        "colab_type": "text"
      },
      "source": [
        "# Voting Classifier"
      ]
    },
    {
      "cell_type": "code",
      "metadata": {
        "colab_type": "code",
        "id": "p9zqvLQ_LyP_",
        "outputId": "3bfd094a-8a79-48a7-d9cf-ebb56841166a",
        "colab": {
          "base_uri": "https://localhost:8080/",
          "height": 156
        }
      },
      "source": [
        "#Voting classifier with hard voting\n",
        "clf1 = LogisticRegression(max_iter=1000)\n",
        "clf2 = LinearSVC(loss='hinge')\n",
        "clf3 = ExtraTreesClassifier(n_estimators=200, random_state=42)\n",
        "eclf = VotingClassifier(estimators=[('lr', clf1), ('svc', clf2), ('rf', clf3)],voting='hard')\n",
        "clf1 = clf1.fit(train_x,train_y)\n",
        "clf2 = clf2.fit(train_x,train_y)\n",
        "clf3 = clf3.fit(train_x,train_y)\n",
        "eclf = eclf.fit(train_x,train_y)\n",
        "y_pred_vc1 = eclf.predict(test_x)\n",
        "print(accuracy_score(y_pred_vc1 , test_y))\n",
        "score_vc1  = f1_score(test_y, y_pred_vc1 , average = 'weighted')\n",
        "print(score_vc1)"
      ],
      "execution_count": 0,
      "outputs": [
        {
          "output_type": "stream",
          "text": [
            "/opt/conda/lib/python3.7/site-packages/sklearn/svm/_base.py:947: ConvergenceWarning: Liblinear failed to converge, increase the number of iterations.\n",
            "  \"the number of iterations.\", ConvergenceWarning)\n",
            "/opt/conda/lib/python3.7/site-packages/sklearn/svm/_base.py:947: ConvergenceWarning: Liblinear failed to converge, increase the number of iterations.\n",
            "  \"the number of iterations.\", ConvergenceWarning)\n"
          ],
          "name": "stderr"
        },
        {
          "output_type": "stream",
          "text": [
            "0.8062414131501472\n",
            "0.806192830486673\n"
          ],
          "name": "stdout"
        }
      ]
    },
    {
      "cell_type": "code",
      "metadata": {
        "colab_type": "code",
        "id": "2vWTJnJWMqQ1",
        "colab": {},
        "outputId": "63855acf-f78a-4aee-c4b0-5444cc48c7b7"
      },
      "source": [
        "#voting classifier with soft voting\n",
        "clf1 = LogisticRegression(max_iter=1000)\n",
        "clf2 = SVC(kernel='rbf', probability=True)\n",
        "clf3 = ExtraTreesClassifier(n_estimators=100, random_state=42)\n",
        "eclf = VotingClassifier(estimators=[('lr', clf1), ('svc', clf2), ('rf', clf3)],voting='soft', weights=[2, 2, 1])\n",
        "clf1 = clf1.fit(train_x,train_y)\n",
        "clf2 = clf2.fit(train_x,train_y)\n",
        "clf3 = clf3.fit(train_x,train_y)\n",
        "eclf = eclf.fit(train_x,train_y)\n",
        "y_pred_vc2 = eclf.predict(test_x)\n",
        "print(accuracy_score(y_pred_vc2 , test_y))\n",
        "score_vc2  = f1_score(test_y, y_pred_vc2 , average = 'weighted')\n",
        "print(score_vc2)"
      ],
      "execution_count": 0,
      "outputs": [
        {
          "output_type": "stream",
          "text": [
            "0.813189401373896\n",
            "0.8138272066592334\n"
          ],
          "name": "stdout"
        }
      ]
    },
    {
      "cell_type": "code",
      "metadata": {
        "colab_type": "code",
        "id": "NdbjuokfT2_h",
        "outputId": "dc098de2-ba92-4fcb-b6eb-12cf281a49bc",
        "colab": {
          "base_uri": "https://localhost:8080/",
          "height": 442
        }
      },
      "source": [
        "#hyperparameter grid search for randomforest\n",
        "n_estimators = [30, 50, 100, 200, 300]\n",
        "min_samples_split = [2,4,6]\n",
        "min_samples_leaf = [1, 3, 6]\n",
        "\n",
        "from sklearn.model_selection import GridSearchCV\n",
        "\n",
        "hyperF = dict(n_estimators = n_estimators, \n",
        "              min_samples_split = min_samples_split,\n",
        "             min_samples_leaf = min_samples_leaf)\n",
        "clf = GridSearchCV(RandomForestClassifier(), hyperF, cv = 3, verbose = 1,\n",
        "                      n_jobs = -1, scoring='accuracy')\n",
        "\n",
        "clf.fit(train_x,train_y)\n",
        "clf_best = clf.best_estimator_\n",
        "y_pred_rfh = clf_best.predict(test_x)\n",
        "print(accuracy_score(y_pred_rfh, test_y))\n",
        "score_rfh = f1_score(test_y, y_pred_rfh, average = 'weighted')"
      ],
      "execution_count": 0,
      "outputs": [
        {
          "output_type": "stream",
          "text": [
            "Fitting 3 folds for each of 45 candidates, totalling 135 fits\n"
          ],
          "name": "stdout"
        },
        {
          "output_type": "stream",
          "text": [
            "[Parallel(n_jobs=-1)]: Using backend LokyBackend with 16 concurrent workers.\n",
            "[Parallel(n_jobs=-1)]: Done  18 tasks      | elapsed:  7.3min\n",
            "/opt/conda/lib/python3.7/site-packages/joblib/externals/loky/process_executor.py:706: UserWarning: A worker stopped while some jobs were given to the executor. This can be caused by a too short worker timeout or by a memory leak.\n",
            "  \"timeout or by a memory leak.\", UserWarning\n",
            "[Parallel(n_jobs=-1)]: Done 135 out of 135 | elapsed: 32.2min finished\n"
          ],
          "name": "stderr"
        },
        {
          "output_type": "stream",
          "text": [
            "0.7786457311089303\n"
          ],
          "name": "stdout"
        }
      ]
    },
    {
      "cell_type": "code",
      "metadata": {
        "colab_type": "code",
        "id": "p-WAP-Stq2sN",
        "colab": {},
        "outputId": "d0b6dadf-60df-4a12-9495-4d2ead771a2f"
      },
      "source": [
        "clf.best_params_"
      ],
      "execution_count": 0,
      "outputs": [
        {
          "output_type": "execute_result",
          "data": {
            "text/plain": [
              "{'min_samples_leaf': 1, 'min_samples_split': 4, 'n_estimators': 200}"
            ]
          },
          "metadata": {
            "tags": []
          },
          "execution_count": 35
        }
      ]
    },
    {
      "cell_type": "code",
      "metadata": {
        "colab_type": "code",
        "id": "AShGcUFmCUSA",
        "colab": {}
      },
      "source": [
        "#hyperparameter grid search for extratreeclassifier\n",
        "n_estimators = [30, 50, 100, 200, 300]\n",
        "min_samples_split = [2,4,6]\n",
        "min_samples_leaf = [1, 3, 5, 6]\n",
        "\n",
        "hyperF = dict(n_estimators = n_estimators,  \n",
        "              min_samples_split = min_samples_split,\n",
        "             min_samples_leaf = min_samples_leaf)\n",
        "clf = GridSearchCV(ExtraTreesClassifier(), hyperF, cv = 3, verbose = 1,\n",
        "                      n_jobs = -1, scoring='accuracy')\n",
        "\n",
        "clf.fit(train_x,train_y)\n",
        "clf_best = clf.best_estimator_\n",
        "y_pred_eth = clf_best.predict(test_x)\n",
        "print(accuracy_score(y_pred_eth, test_y))\n",
        "score_eth = f1_score(test_y, y_pred_eth, average = 'weighted')"
      ],
      "execution_count": 0,
      "outputs": []
    },
    {
      "cell_type": "code",
      "metadata": {
        "colab_type": "code",
        "id": "-gJSuk-0rBHz",
        "colab": {}
      },
      "source": [
        "clf.best_params_"
      ],
      "execution_count": 0,
      "outputs": []
    },
    {
      "cell_type": "code",
      "metadata": {
        "colab_type": "code",
        "id": "tKjyZbjZiq6A",
        "colab": {},
        "outputId": "3f407263-c745-4cdc-8b24-06a9ba6071d5"
      },
      "source": [
        "#hyperparameter grid search for lightgbm\n",
        "boosting_type = ['gbdt', 'dart', 'goss']\n",
        "learning_rate = [0.01, 0.05, 0.1]\n",
        "hyperF = dict(boosting_type = boosting_type,  \n",
        "              learning_rate=learning_rate)\n",
        "clf = GridSearchCV(lgb.LGBMClassifier(), hyperF, cv = 3, verbose = 1,\n",
        "                      n_jobs = -1, scoring='accuracy')\n",
        "\n",
        "clf.fit(train_x,train_y)\n",
        "clf_best = clf.best_estimator_\n",
        "y_pred_lgbh = clf_best.predict(test_x)\n",
        "print(accuracy_score(y_pred_lgbh, test_y))\n",
        "score_lgbh = f1_score(test_y, y_pred_lgbh, average = 'weighted')"
      ],
      "execution_count": 0,
      "outputs": [
        {
          "output_type": "stream",
          "text": [
            "Fitting 3 folds for each of 9 candidates, totalling 27 fits\n"
          ],
          "name": "stdout"
        },
        {
          "output_type": "stream",
          "text": [
            "[Parallel(n_jobs=-1)]: Using backend LokyBackend with 16 concurrent workers.\n",
            "[Parallel(n_jobs=-1)]: Done  24 out of  27 | elapsed: 12.9min remaining:  1.6min\n",
            "[Parallel(n_jobs=-1)]: Done  27 out of  27 | elapsed: 14.7min finished\n"
          ],
          "name": "stderr"
        },
        {
          "output_type": "stream",
          "text": [
            "0.7656918547595682\n"
          ],
          "name": "stdout"
        }
      ]
    },
    {
      "cell_type": "code",
      "metadata": {
        "colab_type": "code",
        "id": "9OGRk3m6rCRL",
        "colab": {},
        "outputId": "3a0e70c4-c5c4-4877-8a23-a174065a53bc"
      },
      "source": [
        "clf.best_params_"
      ],
      "execution_count": 0,
      "outputs": [
        {
          "output_type": "execute_result",
          "data": {
            "text/plain": [
              "{'boosting_type': 'gbdt', 'learning_rate': 0.1}"
            ]
          },
          "metadata": {
            "tags": []
          },
          "execution_count": 40
        }
      ]
    },
    {
      "cell_type": "markdown",
      "metadata": {
        "id": "CU1ArkGnlEXs",
        "colab_type": "text"
      },
      "source": [
        "# Image classification jusing neural networks"
      ]
    },
    {
      "cell_type": "code",
      "metadata": {
        "colab_type": "code",
        "id": "eFfj-NjxDJhm",
        "colab": {}
      },
      "source": [
        "# ##################################code used to resize images########################################\n",
        "# def resize(path, path1):\n",
        "#     for item in os.listdir(path):\n",
        "#         if os.path.isfile(path+item):\n",
        "#             im = Image.open(path+item)\n",
        "#             f, e = os.path.splitext(path1+item)\n",
        "#             imResize = im.resize((64,64), Image.ANTIALIAS)\n",
        "#             imResize.save(f + ' resized.jpg', 'JPEG', quality=90)\n",
        "# path = 'C:/Users/oshee/Documents/MDSBA/T2/ELTA/images/images/image_train/'\n",
        "# path1 = 'C:/Users/oshee/Documents/MDSBA/T2/ELTA/images/images/image_train_64/'\n",
        "# resize(path, path1)\n",
        "# path = 'C:/Users/oshee/Documents/MDSBA/T2/ELTA/images/images/image_test/'\n",
        "# path1 = 'C:/Users/oshee/Documents/MDSBA/T2/ELTA/images/images/image_test_64/'\n",
        "# resize(path, path1)"
      ],
      "execution_count": 0,
      "outputs": []
    },
    {
      "cell_type": "code",
      "metadata": {
        "colab_type": "code",
        "id": "Diy2-KLpqQhG",
        "colab": {}
      },
      "source": [
        "# ##################################code to unzip the zipfiles containing resized images########################################\n",
        "# zip_ref1 = zipfile.ZipFile(\"/content/drive/My Drive/MDSBA/ELTA/image_train_new.zip\", 'r')\n",
        "# zip_ref1.extractall(\"/content/drive/My Drive/MDSBA/ELTA/\")\n",
        "# zip_ref1.close()\n",
        "# zip_ref2 = zipfile.ZipFile(\"/content/drive/My Drive/MDSBA/ELTA/image_test_new.zip\", 'r')\n",
        "# zip_ref2.extractall(\"/content/drive/My Drive/MDSBA/ELTA/\")\n",
        "# zip_ref2.close()"
      ],
      "execution_count": 0,
      "outputs": []
    },
    {
      "cell_type": "code",
      "metadata": {
        "colab_type": "code",
        "id": "hhA8ZI-P09y4",
        "colab": {}
      },
      "source": [
        "path = \"/content/drive/My Drive/MDSBA/ELTA/\"  \n",
        "train_path = path + 'image_train_new/'\n",
        "df = pd.DataFrame({'path': glob(os.path.join(train_path,'*.jpg'))})\n",
        "df['imageid']=df['path'].apply(lambda x: x.split('/ELTA/image_train_new/image_')[1].split('_product')[0])\n",
        "df['productid']=df['path'].apply(lambda x: x.split('_product_')[1].split(' resized')[0])"
      ],
      "execution_count": 0,
      "outputs": []
    },
    {
      "cell_type": "code",
      "metadata": {
        "colab_type": "code",
        "id": "R2Ofo-N709zB",
        "colab": {}
      },
      "source": [
        "train_df = pd.read_csv('/content/drive/My Drive/MDSBA/ELTA/X_train_update.csv')\n",
        "train_y = pd.read_csv('/content/drive/My Drive/MDSBA/ELTA/Y_train.csv')\n",
        "train_df['productid'] = train_df['productid'].astype(str)\n",
        "train_df['imageid'] = train_df['imageid'].astype(str)\n",
        "train_df = train_df.rename(columns={'Unnamed: 0': 'id'})\n",
        "train_y = train_y.rename(columns={'Unnamed: 0': 'id'})"
      ],
      "execution_count": 0,
      "outputs": []
    },
    {
      "cell_type": "code",
      "metadata": {
        "colab_type": "code",
        "id": "wxaCJcyozsGs",
        "outputId": "ac19842a-1862-41c5-f6be-325639c029d9",
        "colab": {
          "base_uri": "https://localhost:8080/",
          "height": 51
        }
      },
      "source": [
        "df = pd.merge(df, train_df, how='inner', on=['productid','imageid'])\n",
        "df = pd.merge(df, train_y, how='inner', on='id')\n",
        "print(df.shape)\n",
        "print(train_df.shape)"
      ],
      "execution_count": 0,
      "outputs": [
        {
          "output_type": "stream",
          "text": [
            "(84916, 7)\n",
            "(84916, 5)\n"
          ],
          "name": "stdout"
        }
      ]
    },
    {
      "cell_type": "code",
      "metadata": {
        "colab_type": "code",
        "id": "UXwmPJMczvmH",
        "outputId": "b9173166-cfee-4d5f-ae69-27a8e9d610f3",
        "colab": {
          "base_uri": "https://localhost:8080/",
          "height": 153
        }
      },
      "source": [
        "prd_list = list(df.prdtypecode.unique())\n",
        "map_dict = {}\n",
        "for i, id in enumerate(prd_list):\n",
        "    map_dict[id] = i\n",
        "df['new_label'] = df['prdtypecode'].apply(lambda x: map_dict[x])\n",
        "print(df.head())"
      ],
      "execution_count": 0,
      "outputs": [
        {
          "output_type": "stream",
          "text": [
            "                                                path  ... new_label\n",
            "0  /content/drive/My Drive/MDSBA/ELTA/image_train...  ...         0\n",
            "1  /content/drive/My Drive/MDSBA/ELTA/image_train...  ...         1\n",
            "2  /content/drive/My Drive/MDSBA/ELTA/image_train...  ...         2\n",
            "3  /content/drive/My Drive/MDSBA/ELTA/image_train...  ...         3\n",
            "4  /content/drive/My Drive/MDSBA/ELTA/image_train...  ...         3\n",
            "\n",
            "[5 rows x 8 columns]\n"
          ],
          "name": "stdout"
        }
      ]
    },
    {
      "cell_type": "code",
      "metadata": {
        "colab_type": "code",
        "id": "cFIkHu2o0Qe2",
        "colab": {}
      },
      "source": [
        "counter = 0\n",
        "def load_data(N,df):\n",
        "    \"\"\" This functions loads N images using the data df\n",
        "    \"\"\"\n",
        "    X = np.zeros([N,32,32,3]) \n",
        "    y = np.squeeze(df.as_matrix(columns=['new_label']))[0:N]\n",
        "    for i, row in tqdm_notebook(df.iterrows(), total=N):\n",
        "        if i == N:\n",
        "            break\n",
        "        X[i] = cv2.imread(row['path'])\n",
        "          \n",
        "    return X,y"
      ],
      "execution_count": 0,
      "outputs": []
    },
    {
      "cell_type": "code",
      "metadata": {
        "colab_type": "code",
        "id": "CB4grqm80u-H",
        "outputId": "ab7328ee-b8b7-41c6-a852-dc6d14603d54",
        "colab": {
          "base_uri": "https://localhost:8080/",
          "height": 134,
          "referenced_widgets": [
            "a1542001e9d14266b392cfc62df13f66",
            "f9a682d42b5749099ffd8056d35d37e2",
            "4e250a36bc0b48189c4565766f213379",
            "0a2b60a1de494966b4705d093dd1eef9",
            "a329db6c1e6841528082c3cccc8fb618",
            "39cd2fae823f4bc9940e0c3af027da5a",
            "4aaaa86d992948aca99176ddb2815313",
            "3185002b22524a71941e1213b6e98624"
          ]
        }
      },
      "source": [
        "N=20000\n",
        "gc.collect()\n",
        "X,y = load_data(N=N,df=df) "
      ],
      "execution_count": 0,
      "outputs": [
        {
          "output_type": "stream",
          "text": [
            "/usr/local/lib/python3.6/dist-packages/ipykernel_launcher.py:6: FutureWarning: Method .as_matrix will be removed in a future version. Use .values instead.\n",
            "  \n",
            "/usr/local/lib/python3.6/dist-packages/ipykernel_launcher.py:7: TqdmDeprecationWarning: This function will be removed in tqdm==5.0.0\n",
            "Please use `tqdm.notebook.tqdm` instead of `tqdm.tqdm_notebook`\n",
            "  import sys\n"
          ],
          "name": "stderr"
        },
        {
          "output_type": "display_data",
          "data": {
            "application/vnd.jupyter.widget-view+json": {
              "model_id": "a1542001e9d14266b392cfc62df13f66",
              "version_major": 2,
              "version_minor": 0
            },
            "text/plain": [
              "HBox(children=(IntProgress(value=0, max=20000), HTML(value='')))"
            ]
          },
          "metadata": {
            "tags": []
          }
        }
      ]
    },
    {
      "cell_type": "code",
      "metadata": {
        "colab_type": "code",
        "id": "viGCAoo90YGi",
        "colab": {}
      },
      "source": [
        "gc.collect()\n",
        "X_train_tensor = torch.tensor(X, dtype=torch.long)\n",
        "Y_train_tensor = torch.tensor(y, dtype=torch.long)\n",
        "full_dataset = torch.utils.data.TensorDataset(X_train_tensor, Y_train_tensor)\n",
        "train_size = int(0.8 * len(full_dataset))\n",
        "val_size = len(full_dataset) - train_size\n",
        "train_set, val_set = torch.utils.data.random_split(full_dataset, [train_size, val_size])\n",
        "train_dataloader = torch.utils.data.DataLoader(train_set, batch_size=32,\n",
        "                                           shuffle=True)\n",
        "val_dataloader = torch.utils.data.DataLoader(val_set, batch_size=32,\n",
        "                                           shuffle=False)"
      ],
      "execution_count": 0,
      "outputs": []
    },
    {
      "cell_type": "code",
      "metadata": {
        "colab_type": "code",
        "id": "L_W5q3p10awg",
        "colab": {}
      },
      "source": [
        "# The model has been fine tuned by performing dropout and batch normalization\n",
        "# *****START CODE\n",
        "class ConvNet(nn.Module):\n",
        "    def __init__(self):\n",
        "        super(ConvNet, self).__init__()\n",
        "        self.conv1 = nn.Conv2d(3, 32, 3, padding=1)\n",
        "        self.bn1 = nn.BatchNorm2d(32)\n",
        "        self.relu = nn.ReLU(inplace=True)\n",
        "        self.pool = nn.MaxPool2d(2, 2)\n",
        "        self.conv2 = nn.Conv2d(32, 64, 3, padding=1)\n",
        "        #self.drop1 = nn.Dropout(p=0.05)\n",
        "        self.conv3 = nn.Conv2d(64, 128, 3, padding=1)\n",
        "        self.bn2 = nn.BatchNorm2d(128)\n",
        "        self.conv4 = nn.Conv2d(128, 256, 3, padding=1)\n",
        "        self.conv5 = nn.Conv2d(256, 512, 3, padding=1)\n",
        "        self.bn3 = nn.BatchNorm2d(512)\n",
        "        self.conv6 = nn.Conv2d(512, 512, 3, padding=1)\n",
        "        self.fc1 = nn.Linear(512 * 4 * 4, 1024)\n",
        "        self.fc2 = nn.Linear(1024, 512)\n",
        "        # self.drop2 = nn.Dropout(p=0.05)\n",
        "        self.fc3 = nn.Linear(512, 27)\n",
        "\n",
        "        \n",
        "        \n",
        "        \n",
        "    def forward(self, x):\n",
        "        x = x.view(-1, 3, 32, 32) \n",
        "        x = self.relu(self.bn1(self.conv1(x)))\n",
        "        x = self.pool(self.relu(self.conv2(x)))\n",
        "        x = self.relu(self.bn2(self.conv3(x)))\n",
        "        x = self.pool(self.relu(self.conv4(x)))\n",
        "        #x = self.drop1(x)\n",
        "        x = self.relu(self.bn3(self.conv5(x)))\n",
        "        x = self.pool(self.relu(self.conv6(x)))\n",
        "        x = x.view(-1, 512 * 4 * 4)\n",
        "        x = self.relu(self.fc1(x))\n",
        "        x = self.relu(self.fc2(x))\n",
        "        # x = self.drop2(x)\n",
        "        x = self.fc3(x)\n",
        "        return x\n",
        "\n",
        "\n",
        "# *****END CODE"
      ],
      "execution_count": 0,
      "outputs": []
    },
    {
      "cell_type": "code",
      "metadata": {
        "colab_type": "code",
        "id": "1UpgX0q92ZWp",
        "colab": {}
      },
      "source": [
        "# *****START CODE\n",
        "model = ConvNet()\n",
        "device = torch.device('cuda:0')\n",
        "model = model.cuda()\n",
        "\n",
        "#the best optimizer was found to be adams optimizer, the best loss function was found to be cross entrop loss\n",
        "criterion = nn.CrossEntropyLoss()\n",
        "optimizer = torch.optim.Adam(model.parameters(), lr=0.1)\n",
        "epochs = 10\n",
        "# *****END CODE"
      ],
      "execution_count": 0,
      "outputs": []
    },
    {
      "cell_type": "code",
      "metadata": {
        "colab_type": "code",
        "id": "qrZTOBlw2b4y",
        "colab": {}
      },
      "source": [
        "## Train the model and validate it after each epoch.\n",
        "## Provide the train-val loss graph.\n",
        "# *****START CODE\n",
        "loss_train = []\n",
        "loss_eval = []\n",
        "\n",
        "for epoch in tqdm_notebook(range(epochs)):  # loop over the dataset multiple times\n",
        "\n",
        "    #training\n",
        "    training_loss = 0.0\n",
        "    model.train()\n",
        "    for i, data in enumerate(train_dataloader, 0):\n",
        "        # get the inputs; data is a list of [inputs, labels]\n",
        "        inputs, labels = data\n",
        "        inputs = inputs.type(torch.FloatTensor)\n",
        "        inputs, labels = inputs.to(device), labels.to(device)\n",
        "        # zero the parameter gradients\n",
        "        optimizer.zero_grad()\n",
        "\n",
        "        # forward + backward + optimize\n",
        "        outputs = model(inputs)\n",
        "        #print(outputs.shape)\n",
        "        #print(labels.shape)\n",
        "        loss = criterion(outputs, labels)\n",
        "        loss.backward()\n",
        "        optimizer.step()\n",
        "\n",
        "        # print statistics\n",
        "        training_loss += loss.item() #* inputs.size(0)\n",
        "        # if i % 200 == 199:    # print every 200 mini-batches\n",
        "        #     print('[%d, %5d] loss: %.3f' %\n",
        "        #           (epoch + 1, i + 1, training_loss / 200))\n",
        "    loss_train.append(training_loss)\n",
        "    #validation\n",
        "    eval_loss = 0.0\n",
        "    correct = 0.0\n",
        "    total = 0\n",
        "    model.eval()\n",
        "    for i, data in enumerate(val_dataloader, 0):\n",
        "        images, label = data\n",
        "        images = images.type(torch.FloatTensor)\n",
        "        images, label = images.to(device), label.to(device)\n",
        "        output = model(images)\n",
        "        _, predicted = torch.max(output.data, 1)\n",
        "        correct += (predicted == label).sum().item()\n",
        "        total += label.size(0)\n",
        "        loss = criterion(output, label)\n",
        "        eval_loss += loss.item() \n",
        "        # if i % 200 == 199:    # print every 200 mini-batches\n",
        "        #     print('[%d, %5d] loss: %.3f' %\n",
        "        #           (epoch + 1, i + 1, eval_loss / 200))\n",
        "    loss_eval.append(eval_loss)\n",
        "print('Accuracy of the network on the test images: %d %%' % (100 * correct / total))\n",
        "print('Finished Training')"
      ],
      "execution_count": 0,
      "outputs": []
    }
  ]
}